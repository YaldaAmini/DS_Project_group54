{
 "cells": [
  {
   "cell_type": "markdown",
   "metadata": {},
   "source": [
    "# Model: Classification with Logistic Regression, LDA/QDA, Decision Tree, Random Forest and AdaBoost\n",
    "\n",
    "\n",
    "<hr style=\"height:2pt\">\n",
    "\n",
    "\n"
   ]
  },
  {
   "cell_type": "code",
   "execution_count": 1,
   "metadata": {},
   "outputs": [],
   "source": [
    "import matplotlib as mpl\n",
    "import matplotlib.cm as cm\n",
    "import matplotlib.pyplot as plt\n",
    "%matplotlib inline\n",
    "\n",
    "import pandas as pd\n",
    "import numpy as np\n",
    "import json\n",
    "import time\n",
    "\n",
    "from sklearn.model_selection import train_test_split\n",
    "from sklearn.linear_model import LogisticRegressionCV\n",
    "from sklearn.model_selection import cross_val_score\n",
    "from sklearn.preprocessing import PolynomialFeatures\n",
    "from sklearn.discriminant_analysis import LinearDiscriminantAnalysis\n",
    "from sklearn.discriminant_analysis import QuadraticDiscriminantAnalysis\n",
    "from sklearn.ensemble import RandomForestClassifier\n",
    "from sklearn.ensemble import AdaBoostClassifier\n",
    "\n",
    "from sklearn.tree import DecisionTreeClassifier\n",
    "\n",
    "from sklearn.pipeline import make_pipeline\n",
    "from sklearn.preprocessing import StandardScaler\n",
    "\n",
    "import recommend_songs_set as recs #function list created for song recommendation\n",
    "import spotify_api_function_set as sps"
   ]
  },
  {
   "cell_type": "code",
   "execution_count": 2,
   "metadata": {},
   "outputs": [
    {
     "data": {
      "text/plain": [
       "1325"
      ]
     },
     "execution_count": 2,
     "metadata": {},
     "output_type": "execute_result"
    }
   ],
   "source": [
    "#reading playlist files which are in json format\n",
    "path = \"/Users/yalda/Dropbox/DS Project/01 - Data/playlist_df\"\n",
    "df_temp = pd.read_csv(path+\"/playlist_df_ballanced.csv\")\n",
    "df = pd.DataFrame(df_temp.fillna(0))\n",
    "len(df)"
   ]
  },
  {
   "cell_type": "code",
   "execution_count": 3,
   "metadata": {},
   "outputs": [],
   "source": [
    "df_model = df.copy()\n",
    "#df_model = df_model.drop([\"pid\",'playlist_genre'])\n",
    "data_train, data_test = train_test_split(df, test_size=.25, random_state=99, stratify = df.playlist_genre);\n",
    "y_train = data_train['playlist_genre']\n",
    "x_train = data_train.drop(columns = ['pid','playlist_genre','genre_other','genre_pop','genre_pop rock','genre_rap','genre_rock'])\n",
    "y_test = data_test['playlist_genre']\n",
    "x_test_pid = data_test.pid\n",
    "x_test = data_test.drop(columns = ['pid','playlist_genre','genre_other','genre_pop','genre_pop rock','genre_rap','genre_rock'])"
   ]
  },
  {
   "cell_type": "code",
   "execution_count": 4,
   "metadata": {},
   "outputs": [],
   "source": [
    "cv_scores = pd.DataFrame(np.zeros((5,4)))\n",
    "cv_scores.columns = ['logreg model','polynomial logreg model','lda','qda']"
   ]
  },
  {
   "cell_type": "markdown",
   "metadata": {},
   "source": [
    "## Model 1: Logistic regression with cross validation\n",
    "\n",
    "For the first base model, we used logistic regression with corss validation. CS is used to reduce the chance of the overfitting to the training set. And we saved the accuarcy result in a cv_scores. \n",
    "\n",
    "**Standardization of dataset** \n",
    "Due to difference in the scale of the variables, we fitted the model with the standardized data."
   ]
  },
  {
   "cell_type": "code",
   "execution_count": 5,
   "metadata": {},
   "outputs": [
    {
     "name": "stdout",
     "output_type": "stream",
     "text": [
      "0.6866209506988525 seconds\n"
     ]
    }
   ],
   "source": [
    "reg1_time = time.time()\n",
    "logreg_model2 = make_pipeline(\n",
    "    StandardScaler(),\n",
    "    LogisticRegressionCV(multi_class=\"ovr\", cv=5)).fit(x_train, y_train)\n",
    "reg1_time = time.time()- reg1_time\n",
    "print(str(reg1_time)+' seconds' )"
   ]
  },
  {
   "cell_type": "code",
   "execution_count": 6,
   "metadata": {},
   "outputs": [
    {
     "name": "stdout",
     "output_type": "stream",
     "text": [
      "The 5-fold CV score for linear model on test set is:\n",
      "[0.61428571 0.62686567 0.53846154 0.67692308 0.52307692]\n",
      "Training set score is:\n",
      "0.6122860020140987\n",
      "Test set score is:\n",
      " 0.6024096385542169\n"
     ]
    }
   ],
   "source": [
    "cv_scores['logreg model'] = cross_val_score(logreg_model2, x_test, y_test, cv=5)\n",
    "print(\"The 5-fold CV score for linear model on test set is:\\n\"+str(cross_val_score(logreg_model2, x_test, y_test, cv=5))) \n",
    "print(\"Training set score is:\\n\"+str(logreg_model2.score(x_train,y_train))) \n",
    "print(\"Test set score is:\\n\" , logreg_model2.score(x_test,y_test))"
   ]
  },
  {
   "cell_type": "markdown",
   "metadata": {},
   "source": [
    "## Model 2 : Polynomial logistic regression with cross validation\n",
    "\n",
    "For the second model, we added the polynomial degree 2 to the features list, to give more felxibility to the bouandaries of the classification. And in the summary table we campare the performance of the model.\n"
   ]
  },
  {
   "cell_type": "code",
   "execution_count": 7,
   "metadata": {},
   "outputs": [
    {
     "name": "stdout",
     "output_type": "stream",
     "text": [
      "2.930776834487915 seconds\n"
     ]
    }
   ],
   "source": [
    "preg_time = time.time()\n",
    "polynomial_logreg_model = make_pipeline(\n",
    "    PolynomialFeatures(degree=2, include_bias=False),\n",
    "    StandardScaler(),\n",
    "    LogisticRegressionCV(multi_class=\"ovr\", cv=5)).fit(x_train, y_train);\n",
    "preg_time = time.time()- preg_time\n",
    "print(str(preg_time)+' seconds' )"
   ]
  },
  {
   "cell_type": "code",
   "execution_count": 8,
   "metadata": {},
   "outputs": [
    {
     "name": "stdout",
     "output_type": "stream",
     "text": [
      "The 5-fold CV score for polynomial logreg model on test set is:\n",
      "[0.58571429 0.73134328 0.64615385 0.66153846 0.6       ]\n",
      "Training set score is:\n",
      "0.7502517623363545\n",
      "Test set score is:\n",
      " 0.6897590361445783\n"
     ]
    }
   ],
   "source": [
    "print(\"The 5-fold CV score for polynomial logreg model on test set is:\\n\" +str(cross_val_score(polynomial_logreg_model, x_test, y_test, cv=5))) \n",
    "cv_scores['polynomial logreg model'] = cross_val_score(polynomial_logreg_model, x_test, y_test, cv=5)\n",
    "print(\"Training set score is:\\n\"+str(polynomial_logreg_model.score(x_train,y_train))) \n",
    "print(\"Test set score is:\\n\" , polynomial_logreg_model.score(x_test,y_test))\n"
   ]
  },
  {
   "cell_type": "markdown",
   "metadata": {},
   "source": [
    "---\n",
    "## Model 3 : LDA"
   ]
  },
  {
   "cell_type": "code",
   "execution_count": 9,
   "metadata": {
    "scrolled": true
   },
   "outputs": [
    {
     "name": "stdout",
     "output_type": "stream",
     "text": [
      "0.014289140701293945 seconds\n"
     ]
    }
   ],
   "source": [
    "lda_time = time.time()\n",
    "lda = LinearDiscriminantAnalysis().fit(x_train, y_train)\n",
    "lda_time = time.time()- lda_time\n",
    "print(str(lda_time)+' seconds' )"
   ]
  },
  {
   "cell_type": "code",
   "execution_count": 10,
   "metadata": {},
   "outputs": [
    {
     "name": "stdout",
     "output_type": "stream",
     "text": [
      "The 5-fold CV score for lda model on test set is:\n",
      "[0.61428571 0.6119403  0.6        0.53846154 0.55384615] \n",
      " average score is = 0.5837067410201738\n",
      "Training set score is:\n",
      "0.622356495468278\n",
      "Test set score is:\n",
      " 0.6295180722891566\n"
     ]
    }
   ],
   "source": [
    "cv_scores['lda'] = cross_val_score(lda, x_test, y_test, cv=5)\n",
    "print(\"The 5-fold CV score for lda model on test set is:\\n\" +str(cross_val_score(lda, x_test, y_test, cv=5)), \"\\n average score is =\",np.mean(cross_val_score(lda, x_test, y_test, cv=5)) ) \n",
    "print(\"Training set score is:\\n\"+str(lda.score(x_train,y_train))) \n",
    "print(\"Test set score is:\\n\" , lda.score(x_test,y_test))"
   ]
  },
  {
   "cell_type": "markdown",
   "metadata": {},
   "source": [
    "## Model 4 : QDA"
   ]
  },
  {
   "cell_type": "code",
   "execution_count": 11,
   "metadata": {},
   "outputs": [
    {
     "name": "stdout",
     "output_type": "stream",
     "text": [
      "0.014289140701293945 seconds\n"
     ]
    }
   ],
   "source": [
    "qda_time = time.time()\n",
    "qda = QuadraticDiscriminantAnalysis().fit(x_train, y_train)\n",
    "\n",
    "qda_time = time.time()- qda_time\n",
    "print(str(lda_time)+' seconds' )"
   ]
  },
  {
   "cell_type": "code",
   "execution_count": 12,
   "metadata": {},
   "outputs": [
    {
     "name": "stdout",
     "output_type": "stream",
     "text": [
      "The 5-fold CV score for polynomial logreg model on test set is:\n",
      "[0.58571429 0.70149254 0.64615385 0.67692308 0.56923077] \n",
      " average score is = 0.6359029030670822\n",
      "Training set score is:\n",
      "0.6606243705941591\n",
      "Test set score is:\n",
      " 0.6174698795180723\n"
     ]
    }
   ],
   "source": [
    "cv_scores['qda'] = cross_val_score(qda, x_test, y_test, cv=5)\n",
    "print(\"The 5-fold CV score for polynomial logreg model on test set is:\\n\"+str(cross_val_score(qda, x_test, y_test, cv=5)), \"\\n average score is =\",np.mean(cross_val_score(qda, x_test, y_test, cv=5)) ) \n",
    "print(\"Training set score is:\\n\"+str(qda.score(x_train,y_train))) \n",
    "print(\"Test set score is:\\n\" , qda.score(x_test,y_test))"
   ]
  },
  {
   "cell_type": "markdown",
   "metadata": {},
   "source": [
    "---\n",
    "## Model 5: Simple Decision tree\n",
    "\n",
    "We used the depths of the tree as a hyperparamether and at the end of checking the performance of trees with different depth, we creatd a decision tree with the best depth "
   ]
  },
  {
   "cell_type": "code",
   "execution_count": 37,
   "metadata": {},
   "outputs": [],
   "source": [
    "depths = list(range(1, 21))\n",
    "train_scores, cvmeans, cvstds = [], [], []\n",
    "for depth in depths:\n",
    "    clf = DecisionTreeClassifier(max_depth=depth)\n",
    "    train_scores.append(clf.fit(x_train, y_train).score(x_train, y_train))\n",
    "    scores = cross_val_score(estimator=clf, X=x_test, y=y_test, cv=5)\n",
    "    cvmeans.append(scores.mean())\n",
    "    cvstds.append(scores.std())\n",
    "\n",
    "cvmeans = np.array(cvmeans)\n",
    "cvstds = np.array(cvstds)"
   ]
  },
  {
   "cell_type": "code",
   "execution_count": 38,
   "metadata": {},
   "outputs": [
    {
     "data": {
      "image/png": "[encoded data removed]",
      "text/plain": [
       "<Figure size 1440x576 with 1 Axes>"
      ]
     },
     "metadata": {},
     "output_type": "display_data"
    }
   ],
   "source": [
    "#Ploting the decsion tree scores\n",
    "fig, ax = plt.subplots(1, 1, figsize=(20,8))\n",
    "\n",
    "plt.plot(depths, cvmeans, '*-', label=\"Mean CV\", color =\"#29a3a3\" )\n",
    "plt.fill_between(depths, cvmeans - 2*cvstds, cvmeans + 2*cvstds, alpha=0.3, color = \"#c2f0f0\")\n",
    "plt.plot(depths, train_scores, '-+', label=\"Train\",color = \"#d24dff\")\n",
    "plt.legend()\n",
    "plt.ylabel(\"Accuracy\", fontsize=20)\n",
    "plt.xlabel(\"Max Depth\", fontsize=20)\n",
    "plt.xticks(depths)\n",
    "plt.show()\n",
    "fig.savefig('trees.png', dpi=60)"
   ]
  },
  {
   "cell_type": "code",
   "execution_count": 42,
   "metadata": {},
   "outputs": [
    {
     "name": "stdout",
     "output_type": "stream",
     "text": [
      "0.013583898544311523 seconds\n"
     ]
    }
   ],
   "source": [
    "best_depth = 18\n",
    "dt_time = time.time()\n",
    "best_decision_tree = DecisionTreeClassifier(max_depth=best_depth, random_state=99).fit(x_train, y_train)\n",
    "dt_time = time.time()- dt_time\n",
    "print(str(dt_time)+' seconds' )"
   ]
  },
  {
   "cell_type": "code",
   "execution_count": 44,
   "metadata": {},
   "outputs": [
    {
     "name": "stdout",
     "output_type": "stream",
     "text": [
      "Training set score is:\n",
      "1.0\n",
      "Test set score is:\n",
      " 0.5210843373493976\n"
     ]
    }
   ],
   "source": [
    "cv_scores['decision tree'] = cross_val_score(best_decision_tree, x_test, y_test, cv=5)\n",
    "print(\"Training set score is:\\n\"+str(best_decision_tree.score(x_train,y_train))) \n",
    "print(\"Test set score is:\\n\",best_decision_tree.score(x_test,y_test))"
   ]
  },
  {
   "cell_type": "markdown",
   "metadata": {},
   "source": [
    "---\n",
    "## Model 6: Random Forest"
   ]
  },
  {
   "cell_type": "code",
   "execution_count": 63,
   "metadata": {
    "scrolled": true
   },
   "outputs": [
    {
     "name": "stdout",
     "output_type": "stream",
     "text": [
      "1.0230648517608643 seconds\n"
     ]
    }
   ],
   "source": [
    "#Fit a Random Forest model\n",
    "dt_time = time.time()\n",
    "\n",
    "n_trees = 500\n",
    "fitted_rf = RandomForestClassifier(n_estimators=n_trees, max_depth=best_depth).fit(x_train,y_train)\n",
    "\n",
    "dt_time = time.time()- dt_time\n",
    "print(str(dt_time)+' seconds' )"
   ]
  },
  {
   "cell_type": "code",
   "execution_count": 64,
   "metadata": {},
   "outputs": [
    {
     "name": "stdout",
     "output_type": "stream",
     "text": [
      "The Random Forest scored 1.000 on the training set.\n",
      "The Random Forest scored 0.702 on the test set.\n"
     ]
    }
   ],
   "source": [
    "random_forest_train_score = fitted_rf.score(x_train, y_train)\n",
    "random_forest_test_score = fitted_rf.score(x_test, y_test)\n",
    "print(f\"The Random Forest scored {random_forest_train_score:.3f} on the training set.\")\n",
    "print(f\"The Random Forest scored {random_forest_test_score:.3f} on the test set.\")\n",
    "cv_scores['Random Forest'] = cross_val_score(fitted_rf, x_test, y_test, cv=5)\n"
   ]
  },
  {
   "cell_type": "markdown",
   "metadata": {},
   "source": [
    "---\n",
    "## Model 7 : AdaBoost"
   ]
  },
  {
   "cell_type": "code",
   "execution_count": 93,
   "metadata": {},
   "outputs": [
    {
     "name": "stdout",
     "output_type": "stream",
     "text": [
      "7.427016973495483 seconds\n"
     ]
    }
   ],
   "source": [
    "# your code here\n",
    "ada_time = time.time()\n",
    "\n",
    "ada = AdaBoostClassifier(base_estimator=DecisionTreeClassifier(max_depth=6), n_estimators=1000, learning_rate=0.05)\n",
    "ada_fitted = ada.fit(x_train, y_train)\n",
    "\n",
    "\n",
    "ada_time = time.time()- ada_time\n",
    "print(str(ada_time)+' seconds' )"
   ]
  },
  {
   "cell_type": "code",
   "execution_count": 94,
   "metadata": {},
   "outputs": [
    {
     "data": {
      "image/png": "[encoded data removed]",
      "text/plain": [
       "<Figure size 720x360 with 1 Axes>"
      ]
     },
     "metadata": {},
     "output_type": "display_data"
    }
   ],
   "source": [
    "ada_train_scores = list(ada_fitted.staged_score(x_train, y_train))\n",
    "ada_test_scores = list(ada_fitted.staged_score(x_test, y_test))\n",
    "\n",
    "plt.figure(figsize=(10,5))\n",
    "plt.plot(range(1,1001), ada_train_scores, 'g-', label = 'train', color = \"#00cc66\")\n",
    "plt.plot(range(1,1001), ada_test_scores, 'b-', label = 'test',color=\"#cc66ff\")\n",
    "\n",
    "plt.ylabel(\"Accuracy\",fontsize=15)\n",
    "plt.xlabel(\"Number of Iterations\",fontsize=15)\n",
    "plt.title('Accuracy of test and train varying by number of Iterations Boosting',fontsize=15)\n",
    "plt.legend();\n",
    "plt.savefig('adaboost.png', dpi=60)"
   ]
  },
  {
   "cell_type": "code",
   "execution_count": 95,
   "metadata": {},
   "outputs": [
    {
     "name": "stdout",
     "output_type": "stream",
     "text": [
      "0.475006103515625 seconds\n"
     ]
    }
   ],
   "source": [
    "# redo adaboost for best_n_iterations\n",
    "best_n = 60\n",
    "ada_time = time.time()\n",
    "\n",
    "ada = AdaBoostClassifier(base_estimator=DecisionTreeClassifier(max_depth=6), n_estimators=best_n, learning_rate=0.05)\n",
    "ada_fitted = ada.fit(x_train, y_train)\n",
    "\n",
    "\n",
    "ada_time = time.time()- ada_time\n",
    "print(str(ada_time)+' seconds' )"
   ]
  },
  {
   "cell_type": "code",
   "execution_count": 96,
   "metadata": {},
   "outputs": [
    {
     "name": "stdout",
     "output_type": "stream",
     "text": [
      "Training set score is:\n",
      "0.9889224572004028\n",
      "Test set score is:\n",
      " 0.6475903614457831\n"
     ]
    }
   ],
   "source": [
    "ada_train_scores = list(ada_fitted.staged_score(x_train, y_train))\n",
    "ada_test_scores = list(ada_fitted.staged_score(x_test, y_test))\n",
    "cv_scores['AdaBoost'] = cross_val_score(ada_fitted, x_test, y_test, cv=5)\n",
    "print(\"Training set score is:\\n\"+str(ada_fitted.score(x_train,y_train))) \n",
    "print(\"Test set score is:\\n\" , ada_fitted.score(x_test,y_test))"
   ]
  },
  {
   "cell_type": "markdown",
   "metadata": {},
   "source": [
    "----\n",
    "## Comparing Models\n",
    "\n",
    "As we saw in the statistic table of the cross validation score of 7 models, the random forest overperforms all others on average, thus we will keep the random forest as our prediction model."
   ]
  },
  {
   "cell_type": "code",
   "execution_count": 98,
   "metadata": {},
   "outputs": [
    {
     "data": {
      "image/png": "[encoded data removed]",
      "text/plain": [
       "<Figure size 720x360 with 1 Axes>"
      ]
     },
     "metadata": {},
     "output_type": "display_data"
    }
   ],
   "source": [
    "plt.figure(figsize=(10,5))\n",
    "named_classifiers = cv_scores.columns.values\n",
    "positions = np.arange(len(named_classifiers))\n",
    "plt.boxplot(cv_scores.T, vert=False, positions=positions);\n",
    "plt.yticks(positions,named_classifiers )\n",
    "#plt.ylabel(\"Classifier\")\n",
    "plt.xlabel(\"Test-Set Accuracy\",fontsize =15);\n",
    "plt.title('Comparison of models accuracy on test set',fontsize=15)\n",
    "\n",
    "plt.savefig('boxplot.png', dpi=60)"
   ]
  },
  {
   "cell_type": "code",
   "execution_count": 99,
   "metadata": {
    "scrolled": false
   },
   "outputs": [
    {
     "data": {
      "text/html": [
       "<div>\n",
       "<style scoped>\n",
       "    .dataframe tbody tr th:only-of-type {\n",
       "        vertical-align: middle;\n",
       "    }\n",
       "\n",
       "    .dataframe tbody tr th {\n",
       "        vertical-align: top;\n",
       "    }\n",
       "\n",
       "    .dataframe thead th {\n",
       "        text-align: right;\n",
       "    }\n",
       "</style>\n",
       "<table border=\"1\" class=\"dataframe\">\n",
       "  <thead>\n",
       "    <tr style=\"text-align: right;\">\n",
       "      <th></th>\n",
       "      <th>logreg model</th>\n",
       "      <th>polynomial logreg model</th>\n",
       "      <th>lda</th>\n",
       "      <th>qda</th>\n",
       "      <th>decision tree</th>\n",
       "      <th>Random Forest</th>\n",
       "      <th>AdaBoost</th>\n",
       "    </tr>\n",
       "  </thead>\n",
       "  <tbody>\n",
       "    <tr>\n",
       "      <th>count</th>\n",
       "      <td>5.000000</td>\n",
       "      <td>5.000000</td>\n",
       "      <td>5.000000</td>\n",
       "      <td>5.000000</td>\n",
       "      <td>5.000000</td>\n",
       "      <td>5.000000</td>\n",
       "      <td>5.000000</td>\n",
       "    </tr>\n",
       "    <tr>\n",
       "      <th>mean</th>\n",
       "      <td>0.595923</td>\n",
       "      <td>0.644950</td>\n",
       "      <td>0.583707</td>\n",
       "      <td>0.635903</td>\n",
       "      <td>0.514532</td>\n",
       "      <td>0.638412</td>\n",
       "      <td>0.587735</td>\n",
       "    </tr>\n",
       "    <tr>\n",
       "      <th>std</th>\n",
       "      <td>0.064156</td>\n",
       "      <td>0.057597</td>\n",
       "      <td>0.035130</td>\n",
       "      <td>0.057127</td>\n",
       "      <td>0.066527</td>\n",
       "      <td>0.036843</td>\n",
       "      <td>0.060600</td>\n",
       "    </tr>\n",
       "    <tr>\n",
       "      <th>min</th>\n",
       "      <td>0.523077</td>\n",
       "      <td>0.585714</td>\n",
       "      <td>0.538462</td>\n",
       "      <td>0.569231</td>\n",
       "      <td>0.430769</td>\n",
       "      <td>0.584615</td>\n",
       "      <td>0.528571</td>\n",
       "    </tr>\n",
       "    <tr>\n",
       "      <th>25%</th>\n",
       "      <td>0.538462</td>\n",
       "      <td>0.600000</td>\n",
       "      <td>0.553846</td>\n",
       "      <td>0.585714</td>\n",
       "      <td>0.461538</td>\n",
       "      <td>0.628571</td>\n",
       "      <td>0.553846</td>\n",
       "    </tr>\n",
       "    <tr>\n",
       "      <th>50%</th>\n",
       "      <td>0.614286</td>\n",
       "      <td>0.646154</td>\n",
       "      <td>0.600000</td>\n",
       "      <td>0.646154</td>\n",
       "      <td>0.528571</td>\n",
       "      <td>0.646154</td>\n",
       "      <td>0.553846</td>\n",
       "    </tr>\n",
       "    <tr>\n",
       "      <th>75%</th>\n",
       "      <td>0.626866</td>\n",
       "      <td>0.661538</td>\n",
       "      <td>0.611940</td>\n",
       "      <td>0.676923</td>\n",
       "      <td>0.567164</td>\n",
       "      <td>0.646154</td>\n",
       "      <td>0.630769</td>\n",
       "    </tr>\n",
       "    <tr>\n",
       "      <th>max</th>\n",
       "      <td>0.676923</td>\n",
       "      <td>0.731343</td>\n",
       "      <td>0.614286</td>\n",
       "      <td>0.701493</td>\n",
       "      <td>0.584615</td>\n",
       "      <td>0.686567</td>\n",
       "      <td>0.671642</td>\n",
       "    </tr>\n",
       "  </tbody>\n",
       "</table>\n",
       "</div>"
      ],
      "text/plain": [
       "       logreg model  polynomial logreg model       lda       qda  \\\n",
       "count      5.000000                 5.000000  5.000000  5.000000   \n",
       "mean       0.595923                 0.644950  0.583707  0.635903   \n",
       "std        0.064156                 0.057597  0.035130  0.057127   \n",
       "min        0.523077                 0.585714  0.538462  0.569231   \n",
       "25%        0.538462                 0.600000  0.553846  0.585714   \n",
       "50%        0.614286                 0.646154  0.600000  0.646154   \n",
       "75%        0.626866                 0.661538  0.611940  0.676923   \n",
       "max        0.676923                 0.731343  0.614286  0.701493   \n",
       "\n",
       "       decision tree  Random Forest  AdaBoost  \n",
       "count       5.000000       5.000000  5.000000  \n",
       "mean        0.514532       0.638412  0.587735  \n",
       "std         0.066527       0.036843  0.060600  \n",
       "min         0.430769       0.584615  0.528571  \n",
       "25%         0.461538       0.628571  0.553846  \n",
       "50%         0.528571       0.646154  0.553846  \n",
       "75%         0.567164       0.646154  0.630769  \n",
       "max         0.584615       0.686567  0.671642  "
      ]
     },
     "execution_count": 99,
     "metadata": {},
     "output_type": "execute_result"
    }
   ],
   "source": [
    "cv_scores.describe()"
   ]
  },
  {
   "cell_type": "markdown",
   "metadata": {},
   "source": [
    "---\n",
    "** Prediction **"
   ]
  },
  {
   "cell_type": "code",
   "execution_count": null,
   "metadata": {},
   "outputs": [],
   "source": [
    "# creating prediction values on the test set for the next module, which is song suggestion\n",
    "pred_y_test_rf = fitted_rf.predict(x_test)"
   ]
  },
  {
   "cell_type": "markdown",
   "metadata": {},
   "source": [
    "## Recommending Songs\n",
    "<hr style=\"height:1pt\">\n",
    "\n",
    "In this section we recommend a set of N songs to be added to a given playlist. Our set of playlists is the test set, therefore, for each playlist in the test set, we recommend N additional and unique songs to be added to each playlist. The recommended songs are obtained from a pool we created that contains approximately 35,000 unique songs.\n",
    "\n",
    "We choose songs from the pool based on two methods:\n",
    "\n",
    "The first model is the simpler model where based on the predicted genre of a given playlist, we randomly recommend songs that belong to that genre. We make sure to recommended a set of unique songs that are not present in the playlist. Clearly, this is a very simple model and might not be reflective of the style of songs that are in a given playlist.\n",
    "\n",
    "We improve upon this simple model in our second model. In this improved model, we not only look at the predicted genre for song selection, but we utilize cosine similarity to rank which songs from the pool most likely resemble a given playlist. For cosine similarity comparison, we use the average of each song feature to create a vector to compare against each song's feature vector in the pool."
   ]
  },
  {
   "cell_type": "code",
   "execution_count": null,
   "metadata": {},
   "outputs": [],
   "source": [
    "#remove string 'genre_' from list of predictions as not needed\n",
    "y_pred_selected = [g[len('genre_'):] for g in pred_y_test_rf]\n",
    "\n",
    "#add playlist id to test set to know which songs belong to which playlist\n",
    "x_test['pid'] = x_test_pid"
   ]
  },
  {
   "cell_type": "code",
   "execution_count": null,
   "metadata": {},
   "outputs": [],
   "source": [
    "#reading spotify playlist files which are in json format\n",
    "\n",
    "file_names = [\"mpd.slice.0-999\", \"mpd.slice.1000-1999\", \"mpd.slice.2000-2999\",\n",
    "              \"mpd.slice.3000-3999\", \"mpd.slice.4000-4999\", \"mpd.slice.5000-5999\",\n",
    "              \"mpd.slice.6000-6999\", \"mpd.slice.7000-7999\", \"mpd.slice.8000-8999\", \"mpd.slice.9000-9999\"]\n",
    "\n",
    "spotify_playlist = []\n",
    "for file in file_names:\n",
    "    with open(path+\"/\"+file+\".json\", \"r\") as fd:\n",
    "        plylist_temp = json.load(fd)\n",
    "        plylist_temp = plylist_temp.get('playlists')\n",
    "        spotify_playlist = spotify_playlist + plylist_temp"
   ]
  },
  {
   "cell_type": "markdown",
   "metadata": {},
   "source": [
    "### Simple Model for Song Recommendation\n",
    "\n",
    "We first define the number of songs we wish to recommend to each playlist in the test sest. In this case, we will recommend 10 additional songs to each playlist and define the path to the pool csv file:"
   ]
  },
  {
   "cell_type": "code",
   "execution_count": null,
   "metadata": {},
   "outputs": [],
   "source": [
    "N = 10\n",
    "pool_path = path+'/'+'big_song_pool.csv'"
   ]
  },
  {
   "cell_type": "markdown",
   "metadata": {},
   "source": [
    "We then run the simple model. We constructed functions that suggest songs based on genre (the simple model). The function, called \"suggest_genre_songs\", takes as inputs the number of songs to be recommended, the genre of a given playlist, the list of songs in that playlist, and the path to the pool file. The function returns a dataframe containing an N list of songs to be added to the playlist. See [Supporting Functions for Song Recommendations](#Supporting_Functions) section below for further information.\n",
    "\n",
    "We use a loop to recommend N songs to each of the playlists in the test set. We add a limiter in case we don't want to try recommending songs to all playlists in test set for computational purposes. We store the results in a list."
   ]
  },
  {
   "cell_type": "code",
   "execution_count": null,
   "metadata": {},
   "outputs": [],
   "source": [
    "simple_test_recs = []\n",
    "\n",
    "stop = 15\n",
    "\n",
    "i = 0\n",
    "for pid, current_y in zip(x_test.pid, y_pred_selected):\n",
    "    current_playlist = sps.get_playlist_n(spotify_playlist[pid], feature = 'track_uri', n_playlist = pid)\n",
    "    simple_test_recs.append(recs.suggest_genre_songs(N, current_y, current_playlist, pool_path))\n",
    "    \n",
    "    i += 1\n",
    "    if i == stop:\n",
    "        break"
   ]
  },
  {
   "cell_type": "markdown",
   "metadata": {},
   "source": [
    "### Improved Model for Song Recommendation\n",
    "\n",
    "The calling and using of the improved model is very similar to the simple model. We call a function that uses the improved model logic to recommend songs based on cosine similarity. The function takes in the same inputs as the simple model with one additional argument which is the feature vector to be used for cosine similarity comparison. See [Supporting Functions for Song Recommendations](#Supporting_Functions) section below for further information."
   ]
  },
  {
   "cell_type": "code",
   "execution_count": null,
   "metadata": {},
   "outputs": [],
   "source": [
    "best_test_recs = []\n",
    "\n",
    "i = 0\n",
    "for pid, current_y, f_vector in zip(x_test.pid, y_pred_selected, x_test.iterrows()):\n",
    "    current_playlist = sps.get_playlist_n(spotify_playlist[pid], feature = 'track_uri', n_playlist = pid)\n",
    "    best_test_recs.append(recs.suggest_best_songs(f_vector[1].drop('pid'), N, current_y, current_playlist, pool_path))\n",
    "    \n",
    "    i += 1\n",
    "    if i == stop:\n",
    "        break"
   ]
  },
  {
   "cell_type": "code",
   "execution_count": null,
   "metadata": {},
   "outputs": [],
   "source": [
    "test_result_playlist = 4"
   ]
  },
  {
   "cell_type": "code",
   "execution_count": null,
   "metadata": {},
   "outputs": [],
   "source": [
    "y_pred_selected[test_result_playlist]"
   ]
  },
  {
   "cell_type": "code",
   "execution_count": null,
   "metadata": {},
   "outputs": [],
   "source": [
    "simple_test_recs[test_result_playlist]"
   ]
  },
  {
   "cell_type": "code",
   "execution_count": null,
   "metadata": {},
   "outputs": [],
   "source": [
    "best_test_recs[test_result_playlist]"
   ]
  },
  {
   "cell_type": "code",
   "execution_count": null,
   "metadata": {},
   "outputs": [],
   "source": [
    "songs = sps.get_playlist_n(spotify_playlist[test_result_playlist], \n",
    "                           feature = 'track_uri', n_playlist = test_result_playlist)"
   ]
  },
  {
   "cell_type": "code",
   "execution_count": null,
   "metadata": {
    "scrolled": false
   },
   "outputs": [],
   "source": [
    "sp = sps.create_spotipy_obj()\n",
    "tracks =  sp.tracks(songs[:50]) #limit printing original playlist to 50 for visual purposes\n",
    "\n",
    "df_data = []\n",
    "for i in tracks['tracks']:\n",
    "    song_name = i['name']\n",
    "    artist_name = i['artists'][0]['name']\n",
    "    album_name = i['album']['name']\n",
    "    song_uri = i['uri']\n",
    "    df_data.append([song_name, artist_name, album_name, song_uri])\n",
    "\n",
    "df = pd.DataFrame(df_data)\n",
    "df.columns = ['song_name', 'artist_name', 'album_name', 'song_uri']\n",
    "df"
   ]
  },
  {
   "cell_type": "markdown",
   "metadata": {},
   "source": [
    "<a id='Supporting_Functions'></a>\n",
    "## Supporting Functions for Song Recommendations\n",
    "\n",
    "For purposes of ease of reading of this notebook, we pushed the song recommendation models into functions stored in a .py file called \"recommend_song_set.py\". This not only simplifies the code, but it makes it easy to re-use these functions in case we want to further improve our models and/or genre classification. For example, if we decide to suggest 30% pop songs and 70% rock songs, these functions can be called twice in order to recommend these percentage of songs by genre. The functions are presented below."
   ]
  },
  {
   "cell_type": "markdown",
   "metadata": {},
   "source": [
    "### Simple model for song recommendation explanation\n",
    "\n",
    "The simpler model takes in as input the following:\n",
    "   - N: corresponds to the number of songs to return. [type int]\n",
    "   - genre: genre classification based on our model, for example: 'rock'. [type string] \n",
    "   - playlist: a pandas dataframe containing the playlist used for recommendation. [type pandas dataframe]\n",
    "   - pool_path: path to pool file. [type string]\n",
    "\n",
    "and outputs a dataframe containing the recommended songs to be added to the given playlist. An example of the output dataframe is the following:\n",
    "\n",
    "| Song Name               | Artist Name           | Album Name                                        | Song URI                             |\n",
    "|-------------------------|-----------------------|---------------------------------------------------|--------------------------------------|\n",
    "| Wonderwall - Remastered | Oasis                 | (What's The Story) Morning Glory? [Remastered]    | spotify:track:5qqabIl2vWzo9ApSC317sa |\n",
    "| 1979 - Remastered 2012  | The Smashing Pumpkins | Mellon Collie And The Infinite Sadness (Remast... | spotify:track:3Y8Ff1nH44jFywAtpgmleZ |\n",
    "|                         |                       |                                                   |                                      |\n",
    "\n",
    "\n",
    "The logic of this model is quite simple. It takes in the predicted genre of the playlist and recommends songs of that genre to be added. It checks to see that the recommended songs are not already contained in the playlist so it recommends new and unique songs to be added. This model selects songs of that specified genre by randomizing that subset of the pool and recommending N requested songs."
   ]
  },
  {
   "cell_type": "code",
   "execution_count": null,
   "metadata": {},
   "outputs": [],
   "source": [
    "def suggest_genre_songs(N: int, genre: str, playlist, pool_path: str):\n",
    "    \"\"\"\n",
    "    This function recommends N best songs to be added to a playlist based on\n",
    "    the genre of the playlist. It randomizes the pool and sugests N randomly\n",
    "    chosen songs from that genre.\n",
    "    INPUTS:\n",
    "        N: (int) number of songs to return as recommendations\n",
    "        genre: (string) classification based on our model\n",
    "        playlist: (pandas dataframe) a pandas dataframe containing the playlist\n",
    "            being analyzed.\n",
    "        pool_path: (string) path to the pool file\n",
    "    OUTPUT:\n",
    "        df: (pandas df) df of recommended songs with some information\n",
    "    \"\"\"\n",
    "    import pandas as pd\n",
    "    import numpy as np\n",
    "    import spotify_api_function_set as spf\n",
    "\n",
    "    dtypes = {'song_uri': str, 'duration_ms': np.int64, 'time_signature': np.int64,\n",
    "              'key': np.int64, 'tempo': np.float64, 'energy': np.float64, 'mode': np.int64,\n",
    "              'loudness': np.float64, 'speechiness': np.float64, 'danceability': np.float64,\n",
    "              'acousticness': np.float64,'instrumentalness': np.float64, 'valence': np.float64,\n",
    "              'liveness': np.float64, 'artist_followers': np.int64, 'artist_uri': str,\n",
    "              'artist_name': str, 'artist_popularity': np.int64, 'genre': str}\n",
    "\n",
    "    pool = pd.read_csv(pool_path, dtype=dtypes).sample(frac=1)\n",
    "    pool = pool.loc[pool['genre'] == genre]\n",
    "\n",
    "    songs = []\n",
    "    i = 0\n",
    "    while len(songs) < N:\n",
    "        song = pool.song_uri.iloc[i]\n",
    "        if not song in playlist:\n",
    "            songs.append(song)\n",
    "\n",
    "        i += 1\n",
    "\n",
    "    sp = spf.create_spotipy_obj()\n",
    "    tracks =  sp.tracks(songs)\n",
    "\n",
    "    df_data = []\n",
    "    for i in tracks['tracks']:\n",
    "        song_name = i['name']\n",
    "        artist_name = i['artists'][0]['name']\n",
    "        album_name = i['album']['name']\n",
    "        song_uri = i['uri']\n",
    "        df_data.append([song_name, artist_name, album_name, song_uri])\n",
    "\n",
    "    df = pd.DataFrame(df_data)\n",
    "    df.columns = ['song_name', 'artist_name', 'album_name', 'song_uri']\n",
    "\n",
    "    return df"
   ]
  },
  {
   "cell_type": "markdown",
   "metadata": {},
   "source": [
    "### Advanced model for song recommendation explanation\n",
    "\n",
    "The advanced model takes in as input the following:\n",
    "   - feature_vector: vector of feature averages of the playlist being analyzed. [type pd series]\n",
    "   - N: corresponds to the number of songs to return. [type int]\n",
    "   - genre: genre classification based on our model, for example: 'rock'. [type string] \n",
    "   - playlist: a pandas dataframe containing the playlist used for recommendation. [type pd dataframe]\n",
    "   - pool_path: path to pool file. [type string]\n",
    "\n",
    "Notice that this advanced model requires an additional input. This additional input is a vector of a given test playlist features. The vector is the average of each feature for all songs in a given playlist. This vector is necesarry for performing cosine similarity.\n",
    "\n",
    "The output is a dataframe exactly as the one for the simple model (see above explanation).\n",
    "\n",
    "The logic of this model is a bit more advanced than the simple model. Instead of suggesting N random songs from a specific genre from the pool of songs, it calculates the cosine similarity between that of the vector of features of a playlist and the vector of features for every song in the pool beloning to the same genre as the playlist. It then ranks that subset of songs and recommends N songs with highest cosine similarity to the feature vector.\n",
    "\n",
    "It's important to mention again that we only do cosine similarity between the feature vector and a subset of the song pool. The subset is limited to match the predicted genre for the playlist. A natural question is why do we do this only for a subset and not for the entire pool as there may be songs that are not in that genre that might be a better fit based on cosine similarity? There are to principal reasons:\n",
    "1. Even if we assume there are songs from an outside genre that might better fit the feature vector, it wouldn't make sense to recommend a song from a genre that isn't inside the current playlist as it interrupts the \"mood\" of the playlist. We are assuming users create playlists primarily based on genre so it wouldn't make sense to add a pop song to a playlist that has all rock songs even if a particular pop song might be a better match.\n",
    "2. The second reason, which is less imporant, is for computational purposes. Calculating the cosine similarity for a pool of about 170,000 songs each time a playlist is passed is resource intensive.\n",
    "\n",
    "The idea of using cosine similarity came from talks with our TA for this project Mehul Smriti (thank you!)."
   ]
  },
  {
   "cell_type": "code",
   "execution_count": null,
   "metadata": {},
   "outputs": [],
   "source": [
    "def suggest_best_songs(feature_vector, N: int, genre: str, playlist, pool_path: str):\n",
    "    \"\"\"\n",
    "    This function recommends N best songs to be added to a playlist based on\n",
    "    cosine similarity between the suggested songs and the songs in the playlist.\n",
    "    Cosine similarity is calculated for a subset of the pool based on genre\n",
    "    classification.\n",
    "    INPUTS:\n",
    "        N: (int) number of songs to return as recommendations\n",
    "        genre: (string) classification based on our model\n",
    "        feature_vector: (np series) a vector of audio features to use for cosine\n",
    "            similarity comparison.\n",
    "        pool_path: (string) path to the pool file\n",
    "    OUTPUT:\n",
    "        df: (pandas df) df of recommended songs with some information\n",
    "    \"\"\"\n",
    "    import pandas as pd\n",
    "    import numpy as np\n",
    "    import spotify_api_function_set as spf\n",
    "    from sklearn.metrics.pairwise import cosine_similarity\n",
    "\n",
    "    dtypes = {'song_uri': str, 'duration_ms': np.int64, 'time_signature': np.int64,\n",
    "              'key': np.int64, 'tempo': np.float64, 'energy': np.float64, 'mode': np.int64,\n",
    "              'loudness': np.float64, 'speechiness': np.float64, 'danceability': np.float64,\n",
    "              'acousticness': np.float64,'instrumentalness': np.float64, 'valence': np.float64,\n",
    "              'liveness': np.float64, 'artist_followers': np.int64, 'artist_uri': str,\n",
    "              'artist_name': str, 'artist_popularity': np.int64, 'genre': str}\n",
    "\n",
    "    pool = pd.read_csv(pool_path, dtype=dtypes)\n",
    "    pool = pool.loc[pool['genre'] == genre]\n",
    "    song_uri = pool.song_uri\n",
    "    drop = set(pool.columns)^set(list(feature_vector.index))\n",
    "\n",
    "    pool = pool.drop(drop, axis=1)\n",
    "\n",
    "    feature_vector = np.array(feature_vector.values.reshape(1,-1))\n",
    "\n",
    "    similarity = []\n",
    "    for index, row in pool.iterrows():\n",
    "        similarity.append(float(cosine_similarity(np.array(row.values.reshape(1,-1)),feature_vector)))\n",
    "\n",
    "    pool['similarity'] = similarity\n",
    "    pool['song_uri'] = song_uri\n",
    "    pool = pool.sort_values(by=['similarity'], ascending=False)\n",
    "\n",
    "    songs = []\n",
    "    i = 0\n",
    "    while len(songs) < N:\n",
    "        song = pool.song_uri.iloc[i]\n",
    "        if not song in playlist:\n",
    "            songs.append(song)\n",
    "\n",
    "        i += 1\n",
    "\n",
    "    sp = spf.create_spotipy_obj()\n",
    "    tracks =  sp.tracks(songs)\n",
    "\n",
    "    df_data = []\n",
    "    for i in tracks['tracks']:\n",
    "        song_name = i['name']\n",
    "        artist_name = i['artists'][0]['name']\n",
    "        album_name = i['album']['name']\n",
    "        song_uri = i['uri']\n",
    "        df_data.append([song_name, artist_name, album_name, song_uri])\n",
    "\n",
    "    df = pd.DataFrame(df_data)\n",
    "    df.columns = ['song_name', 'artist_name', 'album_name', 'song_uri']\n",
    "\n",
    "    return df"
   ]
  },
  {
   "cell_type": "code",
   "execution_count": null,
   "metadata": {},
   "outputs": [],
   "source": [
    "# Model"
   ]
  }
 ],
 "metadata": {
  "kernelspec": {
   "display_name": "Python 3",
   "language": "python",
   "name": "python3"
  },
  "language_info": {
   "codemirror_mode": {
    "name": "ipython",
    "version": 3
   },
   "file_extension": ".py",
   "mimetype": "text/x-python",
   "name": "python",
   "nbconvert_exporter": "python",
   "pygments_lexer": "ipython3",
   "version": "3.6.5"
  }
 },
 "nbformat": 4,
 "nbformat_minor": 2
}
