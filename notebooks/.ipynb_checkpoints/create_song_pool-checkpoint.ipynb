{
 "cells": [
  {
   "cell_type": "markdown",
   "metadata": {},
   "source": [
    "# Create Spotify Song Pool\n",
    "\n",
    "## General Description:\n",
    "This Jupyter notebook creates a pool containing unique songs obtained through Spotify's API. It requests data for all unique songs found in a subset of Spotify's 1 Million Playlist Set. The subset consists of 10,000 playlists. The number of unique songs found in this subset and pushed into a pool csv file is approximaetly 170,000. This, we assume, is a sufficiently large enough pool for recommending songs to a playlist. Song features are added to the pool in order to be used as a source of information.\n",
    "\n",
    "\n",
    "<hr style=\"height:2pt\">"
   ]
  },
  {
   "cell_type": "code",
   "execution_count": 1,
   "metadata": {},
   "outputs": [],
   "source": [
    "import pandas as pd\n",
    "import time\n",
    "import json\n",
    "import numpy as np\n",
    "import re"
   ]
  },
  {
   "cell_type": "markdown",
   "metadata": {},
   "source": [
    "We import a set of functions we created in order to make notebook codes easier to read. These functions, stored in a .py file called \"spotify_api_fuction_set\", are used for handling a Library that communicates with the Spotify API called Spotipy. The Spotipy library can be found here (https://spotipy.readthedocs.io/en/latest/). Note that the functions created are specific to this project (See EDA section for list of functions inside this .py file)."
   ]
  },
  {
   "cell_type": "code",
   "execution_count": 2,
   "metadata": {},
   "outputs": [],
   "source": [
    "import spotify_api_function_set as sps #imports set of functions created to use spotify API"
   ]
  },
  {
   "cell_type": "markdown",
   "metadata": {},
   "source": [
    "We load a subset of 10,000 playlists from the 1 Million Playlist Dataset from Spotify using the json library."
   ]
  },
  {
   "cell_type": "code",
   "execution_count": 3,
   "metadata": {},
   "outputs": [],
   "source": [
    "path = 'data'\n",
    "file_names = [\"mpd.slice.0-999\", \"mpd.slice.1000-1999\", \"mpd.slice.2000-2999\",\n",
    "              \"mpd.slice.3000-3999\", \"mpd.slice.4000-4999\", \"mpd.slice.5000-5999\",\n",
    "              \"mpd.slice.6000-6999\", \"mpd.slice.7000-7999\", \"mpd.slice.8000-8999\", \"mpd.slice.9000-9999\"]\n",
    "\n",
    "spotify_playlist = []\n",
    "for file in file_names:\n",
    "    with open(path+\"/\"+file+\".json\", \"r\") as fd:\n",
    "        plylist_temp = json.load(fd)\n",
    "        plylist_temp = plylist_temp.get('playlists')\n",
    "        spotify_playlist = spotify_playlist + plylist_temp"
   ]
  },
  {
   "cell_type": "markdown",
   "metadata": {},
   "source": [
    "We define the number of playlists we wish to use as a source for song pool generation. In this case we will use all 10,000 playlists. From here, for each playlist, we extract each song's Uniform Resource Identifier (URI) and each song's artist URI so we can use it later with Spotify's API."
   ]
  },
  {
   "cell_type": "code",
   "execution_count": 5,
   "metadata": {},
   "outputs": [],
   "source": [
    "N = 10000 #Number of playlists to request\n",
    "\n",
    "track_uri = []\n",
    "artist_uri = []\n",
    "\n",
    "for i in range(N):\n",
    "    track_id = sps.get_playlist_n(spotify_playlist[i], feature = 'track_uri', n_playlist = i)\n",
    "    artist_id = sps.get_playlist_n(spotify_playlist[i], feature = 'artist_uri', n_playlist = i)  \n",
    "    \n",
    "    track_uri.extend(track_id)\n",
    "    artist_uri.extend(artist_id)"
   ]
  },
  {
   "cell_type": "markdown",
   "metadata": {},
   "source": [
    "Since we expect many songs to be repeated from playlist to playlist, we store the track and artist URIs in a pandas dataframe in order to drop any duplicates based on track URIs."
   ]
  },
  {
   "cell_type": "code",
   "execution_count": 6,
   "metadata": {},
   "outputs": [],
   "source": [
    "data = [np.array(track_uri).T, np.array(artist_uri).T]\n",
    "data = np.transpose(data)\n",
    "temp_df = pd.DataFrame(data)\n",
    "temp_df.columns = ['track_uri', 'artist_uri']"
   ]
  },
  {
   "cell_type": "markdown",
   "metadata": {},
   "source": [
    "We check the length of the dataframe containing all songs extracted from the 10,000 playlists. We see that there are currently 664,712 songs in the dataframe."
   ]
  },
  {
   "cell_type": "code",
   "execution_count": 7,
   "metadata": {},
   "outputs": [
    {
     "data": {
      "text/plain": [
       "664712"
      ]
     },
     "execution_count": 7,
     "metadata": {},
     "output_type": "execute_result"
    }
   ],
   "source": [
    "len(temp_df)"
   ]
  },
  {
   "cell_type": "markdown",
   "metadata": {},
   "source": [
    "Dropping duplicated songs, we reduce the playlist to 170,089 unique songs. We do this before requesting API information in order to prevent unnecessary requests."
   ]
  },
  {
   "cell_type": "code",
   "execution_count": 7,
   "metadata": {},
   "outputs": [
    {
     "data": {
      "text/plain": [
       "170089"
      ]
     },
     "execution_count": 7,
     "metadata": {},
     "output_type": "execute_result"
    }
   ],
   "source": [
    "temp_df = temp_df.drop_duplicates(subset='track_uri') #Remove duplicates\n",
    "len(temp_df)"
   ]
  },
  {
   "cell_type": "code",
   "execution_count": 8,
   "metadata": {},
   "outputs": [],
   "source": [
    "track_uri = list(temp_df.track_uri)\n",
    "artist_uri = list(temp_df.artist_uri)\n",
    "sp = sps.create_spotipy_obj() #create spotify object to use to request songs"
   ]
  },
  {
   "cell_type": "markdown",
   "metadata": {},
   "source": [
    "We request song and artist features provided by spotify's API for all unique songs found in the 10,000 playlist subset. We time it to get a sense of speed. Note, this code took us approximately 22 minutes to run. Feel free to use a smaller Playlist subset (N above) to test the code first."
   ]
  },
  {
   "cell_type": "code",
   "execution_count": 9,
   "metadata": {
    "scrolled": true
   },
   "outputs": [
    {
     "name": "stdout",
     "output_type": "stream",
     "text": [
      "--- 1293.6080300807953 seconds ---\n"
     ]
    }
   ],
   "source": [
    "start_time = time.time()\n",
    "t_features, a_features = sps.get_all_features(track_uri, artist_uri, sp)\n",
    "print(\"--- %s seconds ---\" % (time.time() - start_time))"
   ]
  },
  {
   "cell_type": "code",
   "execution_count": 43,
   "metadata": {},
   "outputs": [],
   "source": [
    "data = [np.array(t_features).T, np.array(a_features).T]\n",
    "data = np.transpose(data)\n",
    "feature_pd = pd.DataFrame(data)\n",
    "feature_pd.columns = ['t_features', 'a_features']"
   ]
  },
  {
   "cell_type": "markdown",
   "metadata": {},
   "source": [
    "Before proceeding any further, we check to see if Spotify returned any NonType objects and drop them. When we ran the code, we got only one NonType object for a song, hence our pool was reduced by one song."
   ]
  },
  {
   "cell_type": "code",
   "execution_count": 61,
   "metadata": {},
   "outputs": [],
   "source": [
    "feature_pd = feature_pd.dropna()\n",
    "t_features = list(feature_pd.t_features)\n",
    "a_features = list(feature_pd.a_features)"
   ]
  },
  {
   "cell_type": "markdown",
   "metadata": {},
   "source": [
    "We create a pandas dataframe containing unique songs with its features and categorize each song into a genre just like we did when doing data exploration and preparation. We also timed this step, fortunately for the 10,000 playlists, this took about 5 minutes."
   ]
  },
  {
   "cell_type": "code",
   "execution_count": 62,
   "metadata": {},
   "outputs": [],
   "source": [
    "songs_df = sps.create_song_df(t_features, a_features, list(range(len(t_features))))"
   ]
  },
  {
   "cell_type": "code",
   "execution_count": 65,
   "metadata": {},
   "outputs": [
    {
     "name": "stderr",
     "output_type": "stream",
     "text": [
      "/Users/danny_barjum/Documents/Work/HKS/Fall 18/CS 109/project/spotify_api_function_set.py:209: FutureWarning: set_value is deprecated and will be removed in a future release. Please use .at[] or .iat[] accessors instead\n",
      "  songs_df.set_value(j, 'genre', genre)\n"
     ]
    },
    {
     "name": "stdout",
     "output_type": "stream",
     "text": [
      "--- 265.5861220359802 seconds ---\n"
     ]
    }
   ],
   "source": [
    "start_time = time.time()\n",
    "songs_df_unique = sps.genre_generator(songs_df)\n",
    "print(\"--- %s seconds ---\" % (time.time() - start_time))"
   ]
  },
  {
   "cell_type": "markdown",
   "metadata": {},
   "source": [
    "We clean the data a bit further."
   ]
  },
  {
   "cell_type": "code",
   "execution_count": 66,
   "metadata": {},
   "outputs": [],
   "source": [
    "cols = ['song_uri', 'duration_ms', 'time_signature', 'key', 'tempo',\n",
    "       'energy', 'mode', 'loudness', 'speechiness', 'danceability',\n",
    "       'acousticness', 'instrumentalness', 'valence', 'liveness',\n",
    "       'artist_followers', 'artist_name', 'artist_popularity', 'artist_uri','genre']\n",
    "drop = set(cols)^set(songs_df_unique.columns)"
   ]
  },
  {
   "cell_type": "code",
   "execution_count": 67,
   "metadata": {},
   "outputs": [],
   "source": [
    "pool_df = songs_df_unique.drop(drop, axis=1)"
   ]
  },
  {
   "cell_type": "markdown",
   "metadata": {},
   "source": [
    "Check to see if things look ok."
   ]
  },
  {
   "cell_type": "code",
   "execution_count": 68,
   "metadata": {},
   "outputs": [
    {
     "data": {
      "text/html": [
       "<div>\n",
       "<style scoped>\n",
       "    .dataframe tbody tr th:only-of-type {\n",
       "        vertical-align: middle;\n",
       "    }\n",
       "\n",
       "    .dataframe tbody tr th {\n",
       "        vertical-align: top;\n",
       "    }\n",
       "\n",
       "    .dataframe thead th {\n",
       "        text-align: right;\n",
       "    }\n",
       "</style>\n",
       "<table border=\"1\" class=\"dataframe\">\n",
       "  <thead>\n",
       "    <tr style=\"text-align: right;\">\n",
       "      <th></th>\n",
       "      <th>song_uri</th>\n",
       "      <th>duration_ms</th>\n",
       "      <th>time_signature</th>\n",
       "      <th>key</th>\n",
       "      <th>tempo</th>\n",
       "      <th>energy</th>\n",
       "      <th>mode</th>\n",
       "      <th>loudness</th>\n",
       "      <th>speechiness</th>\n",
       "      <th>danceability</th>\n",
       "      <th>acousticness</th>\n",
       "      <th>instrumentalness</th>\n",
       "      <th>valence</th>\n",
       "      <th>liveness</th>\n",
       "      <th>artist_followers</th>\n",
       "      <th>artist_uri</th>\n",
       "      <th>artist_name</th>\n",
       "      <th>artist_popularity</th>\n",
       "      <th>genre</th>\n",
       "    </tr>\n",
       "  </thead>\n",
       "  <tbody>\n",
       "    <tr>\n",
       "      <th>0</th>\n",
       "      <td>spotify:track:0UaMYEvWZi0ZqiDOoHU3YI</td>\n",
       "      <td>226864</td>\n",
       "      <td>4</td>\n",
       "      <td>4</td>\n",
       "      <td>125.461</td>\n",
       "      <td>0.813</td>\n",
       "      <td>0</td>\n",
       "      <td>-7.105</td>\n",
       "      <td>0.1210</td>\n",
       "      <td>0.904</td>\n",
       "      <td>0.03110</td>\n",
       "      <td>0.006970</td>\n",
       "      <td>0.810</td>\n",
       "      <td>0.0471</td>\n",
       "      <td>909185</td>\n",
       "      <td>spotify:artist:2wIVse2owClT7go1WT98tk</td>\n",
       "      <td>Missy Elliott</td>\n",
       "      <td>76</td>\n",
       "      <td>rap</td>\n",
       "    </tr>\n",
       "    <tr>\n",
       "      <th>1</th>\n",
       "      <td>spotify:track:6I9VzXrHxO9rA9A5euc8Ak</td>\n",
       "      <td>198800</td>\n",
       "      <td>4</td>\n",
       "      <td>5</td>\n",
       "      <td>143.040</td>\n",
       "      <td>0.838</td>\n",
       "      <td>0</td>\n",
       "      <td>-3.914</td>\n",
       "      <td>0.1140</td>\n",
       "      <td>0.774</td>\n",
       "      <td>0.02490</td>\n",
       "      <td>0.025000</td>\n",
       "      <td>0.924</td>\n",
       "      <td>0.2420</td>\n",
       "      <td>5455441</td>\n",
       "      <td>spotify:artist:26dSoYclwsYLMAKD3tpOr4</td>\n",
       "      <td>Britney Spears</td>\n",
       "      <td>82</td>\n",
       "      <td>pop</td>\n",
       "    </tr>\n",
       "    <tr>\n",
       "      <th>2</th>\n",
       "      <td>spotify:track:0WqIKmW4BTrj3eJFmnCKMv</td>\n",
       "      <td>235933</td>\n",
       "      <td>4</td>\n",
       "      <td>2</td>\n",
       "      <td>99.259</td>\n",
       "      <td>0.758</td>\n",
       "      <td>0</td>\n",
       "      <td>-6.583</td>\n",
       "      <td>0.2100</td>\n",
       "      <td>0.664</td>\n",
       "      <td>0.00238</td>\n",
       "      <td>0.000000</td>\n",
       "      <td>0.701</td>\n",
       "      <td>0.0598</td>\n",
       "      <td>16678709</td>\n",
       "      <td>spotify:artist:6vWDO969PvNqNYHIOW5v0m</td>\n",
       "      <td>Beyoncé</td>\n",
       "      <td>87</td>\n",
       "      <td>pop</td>\n",
       "    </tr>\n",
       "    <tr>\n",
       "      <th>3</th>\n",
       "      <td>spotify:track:1AWQoqb9bSvzTjaLralEkT</td>\n",
       "      <td>267267</td>\n",
       "      <td>4</td>\n",
       "      <td>4</td>\n",
       "      <td>100.972</td>\n",
       "      <td>0.714</td>\n",
       "      <td>0</td>\n",
       "      <td>-6.055</td>\n",
       "      <td>0.1400</td>\n",
       "      <td>0.891</td>\n",
       "      <td>0.20200</td>\n",
       "      <td>0.000234</td>\n",
       "      <td>0.818</td>\n",
       "      <td>0.0521</td>\n",
       "      <td>7341126</td>\n",
       "      <td>spotify:artist:31TPClRtHm23RisEBtV3X7</td>\n",
       "      <td>Justin Timberlake</td>\n",
       "      <td>83</td>\n",
       "      <td>rap</td>\n",
       "    </tr>\n",
       "    <tr>\n",
       "      <th>4</th>\n",
       "      <td>spotify:track:1lzr43nnXAijIGYnCT8M8H</td>\n",
       "      <td>227600</td>\n",
       "      <td>4</td>\n",
       "      <td>0</td>\n",
       "      <td>94.759</td>\n",
       "      <td>0.606</td>\n",
       "      <td>1</td>\n",
       "      <td>-4.596</td>\n",
       "      <td>0.0713</td>\n",
       "      <td>0.853</td>\n",
       "      <td>0.05610</td>\n",
       "      <td>0.000000</td>\n",
       "      <td>0.654</td>\n",
       "      <td>0.3130</td>\n",
       "      <td>1044532</td>\n",
       "      <td>spotify:artist:5EvFsr3kj42KNv97ZEnqij</td>\n",
       "      <td>Shaggy</td>\n",
       "      <td>74</td>\n",
       "      <td>rap</td>\n",
       "    </tr>\n",
       "  </tbody>\n",
       "</table>\n",
       "</div>"
      ],
      "text/plain": [
       "                               song_uri  duration_ms  time_signature  key  \\\n",
       "0  spotify:track:0UaMYEvWZi0ZqiDOoHU3YI       226864               4    4   \n",
       "1  spotify:track:6I9VzXrHxO9rA9A5euc8Ak       198800               4    5   \n",
       "2  spotify:track:0WqIKmW4BTrj3eJFmnCKMv       235933               4    2   \n",
       "3  spotify:track:1AWQoqb9bSvzTjaLralEkT       267267               4    4   \n",
       "4  spotify:track:1lzr43nnXAijIGYnCT8M8H       227600               4    0   \n",
       "\n",
       "     tempo  energy  mode  loudness  speechiness  danceability  acousticness  \\\n",
       "0  125.461   0.813     0    -7.105       0.1210         0.904       0.03110   \n",
       "1  143.040   0.838     0    -3.914       0.1140         0.774       0.02490   \n",
       "2   99.259   0.758     0    -6.583       0.2100         0.664       0.00238   \n",
       "3  100.972   0.714     0    -6.055       0.1400         0.891       0.20200   \n",
       "4   94.759   0.606     1    -4.596       0.0713         0.853       0.05610   \n",
       "\n",
       "   instrumentalness  valence  liveness  artist_followers  \\\n",
       "0          0.006970    0.810    0.0471            909185   \n",
       "1          0.025000    0.924    0.2420           5455441   \n",
       "2          0.000000    0.701    0.0598          16678709   \n",
       "3          0.000234    0.818    0.0521           7341126   \n",
       "4          0.000000    0.654    0.3130           1044532   \n",
       "\n",
       "                              artist_uri        artist_name  \\\n",
       "0  spotify:artist:2wIVse2owClT7go1WT98tk      Missy Elliott   \n",
       "1  spotify:artist:26dSoYclwsYLMAKD3tpOr4     Britney Spears   \n",
       "2  spotify:artist:6vWDO969PvNqNYHIOW5v0m            Beyoncé   \n",
       "3  spotify:artist:31TPClRtHm23RisEBtV3X7  Justin Timberlake   \n",
       "4  spotify:artist:5EvFsr3kj42KNv97ZEnqij             Shaggy   \n",
       "\n",
       "   artist_popularity genre  \n",
       "0                 76   rap  \n",
       "1                 82   pop  \n",
       "2                 87   pop  \n",
       "3                 83   rap  \n",
       "4                 74   rap  "
      ]
     },
     "execution_count": 68,
     "metadata": {},
     "output_type": "execute_result"
    }
   ],
   "source": [
    "pool_df.head()"
   ]
  },
  {
   "cell_type": "markdown",
   "metadata": {},
   "source": [
    "Finally we store the pool into the specified path, we drop the index as it isn't necesarry."
   ]
  },
  {
   "cell_type": "code",
   "execution_count": 69,
   "metadata": {},
   "outputs": [],
   "source": [
    "pool_df.to_csv(path+'/'+'big_song_pool.csv', index=False)"
   ]
  }
 ],
 "metadata": {
  "kernelspec": {
   "display_name": "Python 3",
   "language": "python",
   "name": "python3"
  },
  "language_info": {
   "codemirror_mode": {
    "name": "ipython",
    "version": 3
   },
   "file_extension": ".py",
   "mimetype": "text/x-python",
   "name": "python",
   "nbconvert_exporter": "python",
   "pygments_lexer": "ipython3",
   "version": "3.6.5"
  }
 },
 "nbformat": 4,
 "nbformat_minor": 2
}
