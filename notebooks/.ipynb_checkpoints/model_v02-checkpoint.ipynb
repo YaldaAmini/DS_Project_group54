{
 "cells": [
  {
   "cell_type": "markdown",
   "metadata": {},
   "source": [
    "# Model: Classification with Logistic Regression, LDA/QDA, Decision Tree, Random Forest and AdaBoost\n",
    "\n",
    "\n",
    "<hr style=\"height:2pt\">\n",
    "\n",
    "\n"
   ]
  },
  {
   "cell_type": "code",
   "execution_count": 1,
   "metadata": {},
   "outputs": [],
   "source": [
    "import matplotlib as mpl\n",
    "import matplotlib.cm as cm\n",
    "import matplotlib.pyplot as plt\n",
    "%matplotlib inline\n",
    "\n",
    "import pandas as pd\n",
    "import numpy as np\n",
    "import json\n",
    "\n",
    "from sklearn.model_selection import train_test_split\n",
    "from sklearn.linear_model import LogisticRegressionCV\n",
    "from sklearn.model_selection import cross_val_score\n",
    "from sklearn.preprocessing import PolynomialFeatures\n",
    "from sklearn.discriminant_analysis import LinearDiscriminantAnalysis\n",
    "from sklearn.discriminant_analysis import QuadraticDiscriminantAnalysis\n",
    "from sklearn.ensemble import RandomForestClassifier\n",
    "from sklearn.ensemble import AdaBoostClassifier\n",
    "\n",
    "from sklearn.tree import DecisionTreeClassifier\n",
    "\n",
    "from sklearn.pipeline import make_pipeline\n",
    "from sklearn.preprocessing import StandardScaler\n",
    "\n",
    "import recommend_songs_set as recs #function list created for song recommendation\n",
    "import spotify_api_function_set as sps"
   ]
  },
  {
   "cell_type": "code",
   "execution_count": 2,
   "metadata": {},
   "outputs": [],
   "source": [
    "#reading playlist files which are in json format\n",
    "path = \"data\"\n",
    "df_temp = pd.read_csv(path+\"/playlist_df_ballanced.csv\")\n"
   ]
  },
  {
   "cell_type": "code",
   "execution_count": 3,
   "metadata": {},
   "outputs": [],
   "source": [
    "df = pd.DataFrame(df_temp.fillna(0))"
   ]
  },
  {
   "cell_type": "code",
   "execution_count": 4,
   "metadata": {
    "scrolled": false
   },
   "outputs": [
    {
     "data": {
      "text/plain": [
       "1325"
      ]
     },
     "execution_count": 4,
     "metadata": {},
     "output_type": "execute_result"
    }
   ],
   "source": [
    "len(df)"
   ]
  },
  {
   "cell_type": "code",
   "execution_count": 5,
   "metadata": {},
   "outputs": [],
   "source": [
    "df_model = df.copy()\n",
    "#df_model = df_model.drop([\"pid\",'playlist_genre'])\n",
    "data_train, data_test = train_test_split(df, test_size=.25, random_state=99, stratify = df.playlist_genre);\n",
    "y_train = data_train['playlist_genre']\n",
    "x_train = data_train.drop(columns = ['pid','playlist_genre','genre_other','genre_pop','genre_pop rock','genre_rap','genre_rock'])\n",
    "y_test = data_test['playlist_genre']\n",
    "x_test_pid = data_test.pid\n",
    "x_test = data_test.drop(columns = ['pid','playlist_genre','genre_other','genre_pop','genre_pop rock','genre_rap','genre_rock'])"
   ]
  },
  {
   "cell_type": "code",
   "execution_count": 6,
   "metadata": {},
   "outputs": [],
   "source": [
    "cv_scores = pd.DataFrame(np.zeros((5,4)))\n",
    "cv_scores.columns = ['logreg model','polynomial logreg model','lda','qda']"
   ]
  },
  {
   "cell_type": "markdown",
   "metadata": {},
   "source": [
    "## Model 1: Logistic regression with cross validation\n",
    "\n",
    "For the base model, we used logistic regression with corss validation. CS is used to reduce the chance of the overfitting to the training set. And we saved the accuarcy result in a cv_scores. \n",
    "\n",
    "**Standardization of dataset** \n",
    "Due to difference in the scale of the variables, we fitted the model with the standardized data."
   ]
  },
  {
   "cell_type": "code",
   "execution_count": 7,
   "metadata": {},
   "outputs": [
    {
     "name": "stdout",
     "output_type": "stream",
     "text": [
      "The 5-fold CV score for linear model on test set is:\n",
      "[0.61428571 0.62686567 0.53846154 0.67692308 0.52307692]\n"
     ]
    }
   ],
   "source": [
    "logreg_model2 = make_pipeline(\n",
    "    StandardScaler(),\n",
    "    LogisticRegressionCV(multi_class=\"ovr\", cv=5)).fit(x_train, y_train)\n",
    "print(\"The 5-fold CV score for linear model on test set is:\\n\"+str(cross_val_score(logreg_model2, x_test, y_test, cv=5))) \n",
    "pred_y_test_logreg_model2 = logreg_model2.predict(x_test)\n",
    "cv_scores['logreg model'] = cross_val_score(logreg_model2, x_test, y_test, cv=5)"
   ]
  },
  {
   "cell_type": "markdown",
   "metadata": {},
   "source": [
    "## Model 2 : Polynomial logistic regression with cross validation\n",
    "\n",
    "For the second model, we added the polynomial degree 2 to the features list, to give more felxibility to the bouandaries of the classification. And in the summary table we campare the performance of the model.\n"
   ]
  },
  {
   "cell_type": "code",
   "execution_count": 8,
   "metadata": {},
   "outputs": [
    {
     "name": "stdout",
     "output_type": "stream",
     "text": [
      "The 5-fold CV score for polynomial logreg model on test set is:\n",
      "[0.58571429 0.73134328 0.64615385 0.66153846 0.6       ]\n"
     ]
    }
   ],
   "source": [
    "polynomial_logreg_model = make_pipeline(\n",
    "    PolynomialFeatures(degree=2, include_bias=False),\n",
    "    StandardScaler(),\n",
    "    LogisticRegressionCV(multi_class=\"ovr\", cv=5)).fit(x_train, y_train);\n",
    "print(\"The 5-fold CV score for polynomial logreg model on test set is:\\n\" +str(cross_val_score(polynomial_logreg_model, x_test, y_test, cv=5))) \n",
    "cv_scores['polynomial logreg model'] = cross_val_score(polynomial_logreg_model, x_test, y_test, cv=5)"
   ]
  },
  {
   "cell_type": "markdown",
   "metadata": {},
   "source": [
    "---\n",
    "## Model 3 : LDA"
   ]
  },
  {
   "cell_type": "code",
   "execution_count": 9,
   "metadata": {
    "scrolled": true
   },
   "outputs": [],
   "source": [
    "lda = LinearDiscriminantAnalysis().fit(x_train, y_train)\n",
    "#print(\"The 5-fold CV score for lda model on test set is:\\n\" +str(cross_val_score(lda, x_test, y_test, cv=5)), \"\\n average score is =\",np.mean(cross_val_score(lda, x_test, y_test, cv=5)) ) \n",
    "cv_scores['lda'] = cross_val_score(lda, x_test, y_test, cv=5)\n",
    "pred_y_test_lda = lda.predict(x_test)\n",
    "\n"
   ]
  },
  {
   "cell_type": "markdown",
   "metadata": {},
   "source": [
    " ## Model 4 : QDA"
   ]
  },
  {
   "cell_type": "code",
   "execution_count": 10,
   "metadata": {},
   "outputs": [],
   "source": [
    "qda = QuadraticDiscriminantAnalysis().fit(x_train, y_train)\n",
    "#print(\"The 5-fold CV score for polynomial logreg model on test set is:\\n\"+str(cross_val_score(qda, x_test, y_test, cv=5)), \"\\n average score is =\",np.mean(cross_val_score(qda, x_test, y_test, cv=5)) ) \n",
    "cv_scores['qda'] = cross_val_score(qda, x_test, y_test, cv=5)\n",
    "pred_y_test_qda = qda.predict(x_test)\n",
    "\n"
   ]
  },
  {
   "cell_type": "markdown",
   "metadata": {},
   "source": [
    "---\n",
    "## Model 5: Simple Decision tree\n",
    "\n",
    "We used the depths of the tree as a hyperparamether and at the end of checking the performance of trees with different depth, we creatd a decision tree with the best depth "
   ]
  },
  {
   "cell_type": "code",
   "execution_count": 11,
   "metadata": {},
   "outputs": [],
   "source": [
    "depths = list(range(1, 21))\n",
    "train_scores, cvmeans, cvstds = [], [], []\n",
    "for depth in depths:\n",
    "    clf = DecisionTreeClassifier(max_depth=depth)\n",
    "    train_scores.append(clf.fit(x_train, y_train).score(x_train, y_train))\n",
    "    scores = cross_val_score(estimator=clf, X=x_test, y=y_test, cv=5)\n",
    "    cvmeans.append(scores.mean())\n",
    "    cvstds.append(scores.std())\n",
    "\n",
    "cvmeans = np.array(cvmeans)\n",
    "cvstds = np.array(cvstds)"
   ]
  },
  {
   "cell_type": "code",
   "execution_count": 12,
   "metadata": {},
   "outputs": [
    {
     "data": {
      "image/png": "[encoded data removed]",
      "text/plain": [
       "<Figure size 432x288 with 1 Axes>"
      ]
     },
     "metadata": {},
     "output_type": "display_data"
    }
   ],
   "source": [
    "#Ploting the decsion tree scores\n",
    "plt.plot(depths, cvmeans, '*-', label=\"Mean CV\", color =\"#29a3a3\" )\n",
    "plt.fill_between(depths, cvmeans - 2*cvstds, cvmeans + 2*cvstds, alpha=0.3, color = \"#c2f0f0\")\n",
    "ylim = plt.ylim()\n",
    "plt.plot(depths, train_scores, '-+', label=\"Train\",color = \"#d24dff\")\n",
    "plt.ylim(ylim)\n",
    "plt.legend()\n",
    "plt.ylabel(\"Accuracy\")\n",
    "plt.xlabel(\"Max Depth\")\n",
    "plt.xticks(depths)\n",
    "plt.show()"
   ]
  },
  {
   "cell_type": "code",
   "execution_count": 13,
   "metadata": {},
   "outputs": [],
   "source": [
    "best_depth = 12\n",
    "best_decision_tree = DecisionTreeClassifier(max_depth=best_depth, random_state=99).fit(x_train, y_train)\n",
    "cv_scores['decision tree'] = cross_val_score(best_decision_tree, x_test, y_test, cv=5)"
   ]
  },
  {
   "cell_type": "markdown",
   "metadata": {},
   "source": [
    "---\n",
    "## Model 6: Random Forest"
   ]
  },
  {
   "cell_type": "code",
   "execution_count": 14,
   "metadata": {},
   "outputs": [],
   "source": [
    "n_trees = 500"
   ]
  },
  {
   "cell_type": "code",
   "execution_count": 15,
   "metadata": {
    "scrolled": true
   },
   "outputs": [
    {
     "name": "stdout",
     "output_type": "stream",
     "text": [
      "The Random Forest scored 0.998 on the training set.\n",
      "The Random Forest scored 0.693 on the test set.\n"
     ]
    }
   ],
   "source": [
    "#Fit a Random Forest model\n",
    "fitted_rf = RandomForestClassifier(n_estimators=n_trees, max_depth=best_depth).fit(x_train,y_train)\n",
    "random_forest_train_score = fitted_rf.score(x_train, y_train)\n",
    "random_forest_test_score = fitted_rf.score(x_test, y_test)\n",
    "print(f\"The Random Forest scored {random_forest_train_score:.3f} on the training set.\")\n",
    "print(f\"The Random Forest scored {random_forest_test_score:.3f} on the test set.\")\n",
    "cv_scores['Random Forest'] = cross_val_score(fitted_rf, x_test, y_test, cv=5)"
   ]
  },
  {
   "cell_type": "markdown",
   "metadata": {},
   "source": [
    "---\n",
    "## Model 7 : AdaBoost"
   ]
  },
  {
   "cell_type": "code",
   "execution_count": 18,
   "metadata": {},
   "outputs": [],
   "source": [
    "# your code here\n",
    "ada = AdaBoostClassifier(base_estimator=DecisionTreeClassifier(max_depth=best_depth), n_estimators=1200, learning_rate=0.05)\n",
    "ada.fit(x_train, y_train)\n",
    "ada_train_scores = list(ada.staged_score(x_train, y_train))\n",
    "ada_test_scores = list(ada.staged_score(x_test, y_test))\n",
    "cv_scores['AdaBoost'] = cross_val_score(ada, x_test, y_test, cv=5)"
   ]
  },
  {
   "cell_type": "code",
   "execution_count": 19,
   "metadata": {},
   "outputs": [
    {
     "data": {
      "image/png": "[encoded data removed]",
      "text/plain": [
       "<Figure size 648x504 with 1 Axes>"
      ]
     },
     "metadata": {},
     "output_type": "display_data"
    }
   ],
   "source": [
    "plt.figure(figsize=(9,7))\n",
    "plt.plot(range(1,1201), ada_train_scores, 'g-', label = 'train', color = \"#00cc66\")\n",
    "plt.plot(range(1,1201), ada_test_scores, 'b-', label = 'test',color=\"#cc66ff\")\n",
    "\n",
    "plt.ylabel(\"Accuracy\")\n",
    "plt.xlabel(\"Number of Iterations\")\n",
    "plt.title('Accuracy of test and train varying by number of Iterations Boosting')\n",
    "plt.legend();"
   ]
  },
  {
   "cell_type": "markdown",
   "metadata": {},
   "source": [
    "----\n",
    "## Comparing Models\n",
    "\n",
    "As we saw in the statistic table of the cross validation score of 7 models, the random forest overperforms all others on average, thus we will keep the random forest as our prediction model."
   ]
  },
  {
   "cell_type": "code",
   "execution_count": 20,
   "metadata": {},
   "outputs": [
    {
     "data": {
      "image/png": "[encoded data removed]",
      "text/plain": [
       "<Figure size 432x288 with 1 Axes>"
      ]
     },
     "metadata": {},
     "output_type": "display_data"
    }
   ],
   "source": [
    "named_classifiers = cv_scores.columns.values\n",
    "positions = np.arange(len(named_classifiers))\n",
    "plt.boxplot(cv_scores.T, vert=False, positions=positions);\n",
    "plt.yticks(positions,named_classifiers )\n",
    "#plt.ylabel(\"Classifier\")\n",
    "plt.xlabel(\"Validation-Set Accuracy\");"
   ]
  },
  {
   "cell_type": "code",
   "execution_count": 21,
   "metadata": {
    "scrolled": false
   },
   "outputs": [
    {
     "data": {
      "text/html": [
       "<div>\n",
       "<style scoped>\n",
       "    .dataframe tbody tr th:only-of-type {\n",
       "        vertical-align: middle;\n",
       "    }\n",
       "\n",
       "    .dataframe tbody tr th {\n",
       "        vertical-align: top;\n",
       "    }\n",
       "\n",
       "    .dataframe thead th {\n",
       "        text-align: right;\n",
       "    }\n",
       "</style>\n",
       "<table border=\"1\" class=\"dataframe\">\n",
       "  <thead>\n",
       "    <tr style=\"text-align: right;\">\n",
       "      <th></th>\n",
       "      <th>logreg model</th>\n",
       "      <th>polynomial logreg model</th>\n",
       "      <th>lda</th>\n",
       "      <th>qda</th>\n",
       "      <th>decision tree</th>\n",
       "      <th>Random Forest</th>\n",
       "      <th>AdaBoost</th>\n",
       "    </tr>\n",
       "  </thead>\n",
       "  <tbody>\n",
       "    <tr>\n",
       "      <th>count</th>\n",
       "      <td>5.000000</td>\n",
       "      <td>5.000000</td>\n",
       "      <td>5.000000</td>\n",
       "      <td>5.000000</td>\n",
       "      <td>5.000000</td>\n",
       "      <td>5.000000</td>\n",
       "      <td>5.000000</td>\n",
       "    </tr>\n",
       "    <tr>\n",
       "      <th>mean</th>\n",
       "      <td>0.595923</td>\n",
       "      <td>0.644950</td>\n",
       "      <td>0.583707</td>\n",
       "      <td>0.635903</td>\n",
       "      <td>0.514532</td>\n",
       "      <td>0.620354</td>\n",
       "      <td>0.528890</td>\n",
       "    </tr>\n",
       "    <tr>\n",
       "      <th>std</th>\n",
       "      <td>0.064156</td>\n",
       "      <td>0.057597</td>\n",
       "      <td>0.035130</td>\n",
       "      <td>0.057127</td>\n",
       "      <td>0.066527</td>\n",
       "      <td>0.034143</td>\n",
       "      <td>0.085891</td>\n",
       "    </tr>\n",
       "    <tr>\n",
       "      <th>min</th>\n",
       "      <td>0.523077</td>\n",
       "      <td>0.585714</td>\n",
       "      <td>0.538462</td>\n",
       "      <td>0.569231</td>\n",
       "      <td>0.430769</td>\n",
       "      <td>0.569231</td>\n",
       "      <td>0.430769</td>\n",
       "    </tr>\n",
       "    <tr>\n",
       "      <th>25%</th>\n",
       "      <td>0.538462</td>\n",
       "      <td>0.600000</td>\n",
       "      <td>0.553846</td>\n",
       "      <td>0.585714</td>\n",
       "      <td>0.461538</td>\n",
       "      <td>0.614286</td>\n",
       "      <td>0.446154</td>\n",
       "    </tr>\n",
       "    <tr>\n",
       "      <th>50%</th>\n",
       "      <td>0.614286</td>\n",
       "      <td>0.646154</td>\n",
       "      <td>0.600000</td>\n",
       "      <td>0.646154</td>\n",
       "      <td>0.528571</td>\n",
       "      <td>0.615385</td>\n",
       "      <td>0.569231</td>\n",
       "    </tr>\n",
       "    <tr>\n",
       "      <th>75%</th>\n",
       "      <td>0.626866</td>\n",
       "      <td>0.661538</td>\n",
       "      <td>0.611940</td>\n",
       "      <td>0.676923</td>\n",
       "      <td>0.567164</td>\n",
       "      <td>0.646154</td>\n",
       "      <td>0.571429</td>\n",
       "    </tr>\n",
       "    <tr>\n",
       "      <th>max</th>\n",
       "      <td>0.676923</td>\n",
       "      <td>0.731343</td>\n",
       "      <td>0.614286</td>\n",
       "      <td>0.701493</td>\n",
       "      <td>0.584615</td>\n",
       "      <td>0.656716</td>\n",
       "      <td>0.626866</td>\n",
       "    </tr>\n",
       "  </tbody>\n",
       "</table>\n",
       "</div>"
      ],
      "text/plain": [
       "       logreg model  polynomial logreg model       lda       qda  \\\n",
       "count      5.000000                 5.000000  5.000000  5.000000   \n",
       "mean       0.595923                 0.644950  0.583707  0.635903   \n",
       "std        0.064156                 0.057597  0.035130  0.057127   \n",
       "min        0.523077                 0.585714  0.538462  0.569231   \n",
       "25%        0.538462                 0.600000  0.553846  0.585714   \n",
       "50%        0.614286                 0.646154  0.600000  0.646154   \n",
       "75%        0.626866                 0.661538  0.611940  0.676923   \n",
       "max        0.676923                 0.731343  0.614286  0.701493   \n",
       "\n",
       "       decision tree  Random Forest  AdaBoost  \n",
       "count       5.000000       5.000000  5.000000  \n",
       "mean        0.514532       0.620354  0.528890  \n",
       "std         0.066527       0.034143  0.085891  \n",
       "min         0.430769       0.569231  0.430769  \n",
       "25%         0.461538       0.614286  0.446154  \n",
       "50%         0.528571       0.615385  0.569231  \n",
       "75%         0.567164       0.646154  0.571429  \n",
       "max         0.584615       0.656716  0.626866  "
      ]
     },
     "execution_count": 21,
     "metadata": {},
     "output_type": "execute_result"
    }
   ],
   "source": [
    "cv_scores.describe()"
   ]
  },
  {
   "cell_type": "markdown",
   "metadata": {},
   "source": [
    "---\n",
    "** Prediction **"
   ]
  },
  {
   "cell_type": "code",
   "execution_count": 22,
   "metadata": {},
   "outputs": [],
   "source": [
    "# creating prediction values on the test set for the next module, which is song suggestion\n",
    "pred_y_test_rf = fitted_rf.predict(x_test)"
   ]
  },
  {
   "cell_type": "markdown",
   "metadata": {},
   "source": [
    "## Recommending Songs\n",
    "<hr style=\"height:1pt\">\n",
    "\n",
    "In this section we recommend a set of N songs to be added to a given playlist. Our set of playlists is the test set, therefore, for each playlist in the test set, we recommend N additional and unique songs to be added to each playlist. The recommended songs are obtained from a pool we created that contains approximately 35,000 unique songs.\n",
    "\n",
    "We choose songs from the pool based on two methods:\n",
    "\n",
    "The first model is the simpler model where based on the predicted genre of a given playlist, we randomly recommend songs that belong to that genre. We make sure to recommended a set of unique songs that are not present in the playlist. Clearly, this is a very simple model and might not be reflective of the style of songs that are in a given playlist.\n",
    "\n",
    "We improve upon this simple model in our second model. In this improved model, we not only look at the predicted genre for song selection, but we utilize cosine similarity to rank which songs from the pool most likely resemble a given playlist. For cosine similarity comparison, we use the average of each song feature to create a vector to compare against each song's feature vector in the pool."
   ]
  },
  {
   "cell_type": "code",
   "execution_count": 23,
   "metadata": {},
   "outputs": [],
   "source": [
    "#remove string 'genre_' from list of predictions as not needed\n",
    "y_pred_selected = [g[len('genre_'):] for g in pred_y_test_rf]\n",
    "\n",
    "#add playlist id to test set to know which songs belong to which playlist\n",
    "x_test['pid'] = x_test_pid"
   ]
  },
  {
   "cell_type": "code",
   "execution_count": 24,
   "metadata": {},
   "outputs": [],
   "source": [
    "#reading spotify playlist files which are in json format\n",
    "\n",
    "file_names = [\"mpd.slice.0-999\", \"mpd.slice.1000-1999\", \"mpd.slice.2000-2999\",\n",
    "              \"mpd.slice.3000-3999\", \"mpd.slice.4000-4999\", \"mpd.slice.5000-5999\",\n",
    "              \"mpd.slice.6000-6999\", \"mpd.slice.7000-7999\", \"mpd.slice.8000-8999\", \"mpd.slice.9000-9999\"]\n",
    "\n",
    "spotify_playlist = []\n",
    "for file in file_names:\n",
    "    with open(path+\"/\"+file+\".json\", \"r\") as fd:\n",
    "        plylist_temp = json.load(fd)\n",
    "        plylist_temp = plylist_temp.get('playlists')\n",
    "        spotify_playlist = spotify_playlist + plylist_temp"
   ]
  },
  {
   "cell_type": "markdown",
   "metadata": {},
   "source": [
    "### Simple Model for Song Recommendation\n",
    "\n",
    "We first define the number of songs we wish to recommend to each playlist in the test sest. In this case, we will recommend 10 additional songs to each playlist and define the path to the pool csv file:"
   ]
  },
  {
   "cell_type": "code",
   "execution_count": 25,
   "metadata": {},
   "outputs": [],
   "source": [
    "N = 10\n",
    "pool_path = path+'/'+'song_pool_421000-421999.csv'"
   ]
  },
  {
   "cell_type": "markdown",
   "metadata": {},
   "source": [
    "We then run the simple model. We constructed functions that suggest songs based on genre (the simple model). The function, called \"suggest_genre_songs\", takes as inputs the number of songs to be recommended, the genre of a given playlist, the list of songs in that playlist, and the path to the pool file. The function returns a dataframe containing an N list of songs to be added to the playlist.\n",
    "\n",
    "We use a loop to recommend N songs to each of the playlists in the test set. We add a limiter in case we don't want to try recommending songs to all playlists in test set for computational purposes. We store the results in a list."
   ]
  },
  {
   "cell_type": "code",
   "execution_count": 26,
   "metadata": {},
   "outputs": [],
   "source": [
    "simple_test_recs = []\n",
    "\n",
    "stop = 5\n",
    "i = 0\n",
    "for pid, current_y in zip(x_test.pid, y_pred_selected):\n",
    "    current_playlist = sps.get_playlist_n(spotify_playlist[pid], feature = 'track_uri', n_playlist = pid)\n",
    "    simple_test_recs.append(recs.suggest_genre_songs(N, current_y, current_playlist, pool_path))\n",
    "    \n",
    "    i += 1\n",
    "    if i == stop:\n",
    "        break"
   ]
  },
  {
   "cell_type": "markdown",
   "metadata": {},
   "source": [
    "### Improved Model for Song Recommendation\n",
    "\n",
    "The calling and using of the improved model is very similar to the simple model. We call a function that uses the improved model logic to recommend songs based on cosine similarity. The function takes in the same inputs as the simple model with one additional argument which is the feature vector to be used for cosine similarity comparison."
   ]
  },
  {
   "cell_type": "code",
   "execution_count": 27,
   "metadata": {},
   "outputs": [],
   "source": [
    "best_test_recs = []\n",
    "\n",
    "stop = 5\n",
    "i = 0\n",
    "for pid, current_y, f_vector in zip(x_test.pid, y_pred_selected, x_test.iterrows()):\n",
    "    current_playlist = sps.get_playlist_n(spotify_playlist[pid], feature = 'track_uri', n_playlist = pid)\n",
    "    best_test_recs.append(recs.suggest_best_songs(f_vector[1].drop('pid'), N, current_y, current_playlist, pool_path))\n",
    "    \n",
    "    i += 1\n",
    "    if i == stop:\n",
    "        break"
   ]
  },
  {
   "cell_type": "code",
   "execution_count": 28,
   "metadata": {},
   "outputs": [
    {
     "data": {
      "text/plain": [
       "'pop rock'"
      ]
     },
     "execution_count": 28,
     "metadata": {},
     "output_type": "execute_result"
    }
   ],
   "source": [
    "y_pred_selected[4]"
   ]
  },
  {
   "cell_type": "code",
   "execution_count": 29,
   "metadata": {},
   "outputs": [
    {
     "data": {
      "text/html": [
       "<div>\n",
       "<style scoped>\n",
       "    .dataframe tbody tr th:only-of-type {\n",
       "        vertical-align: middle;\n",
       "    }\n",
       "\n",
       "    .dataframe tbody tr th {\n",
       "        vertical-align: top;\n",
       "    }\n",
       "\n",
       "    .dataframe thead th {\n",
       "        text-align: right;\n",
       "    }\n",
       "</style>\n",
       "<table border=\"1\" class=\"dataframe\">\n",
       "  <thead>\n",
       "    <tr style=\"text-align: right;\">\n",
       "      <th></th>\n",
       "      <th>song_name</th>\n",
       "      <th>artist_name</th>\n",
       "      <th>album_name</th>\n",
       "      <th>song_uri</th>\n",
       "    </tr>\n",
       "  </thead>\n",
       "  <tbody>\n",
       "    <tr>\n",
       "      <th>0</th>\n",
       "      <td>Sick of Losing Soulmates</td>\n",
       "      <td>dodie</td>\n",
       "      <td>Sick of Losing Soulmates</td>\n",
       "      <td>spotify:track:4hjbxjZpJ8H6qRCzDOGI0M</td>\n",
       "    </tr>\n",
       "    <tr>\n",
       "      <th>1</th>\n",
       "      <td>Upside Down &amp; Inside Out</td>\n",
       "      <td>OK Go</td>\n",
       "      <td>Hungry Ghost</td>\n",
       "      <td>spotify:track:4QkYn1SDHFZWbf0tqNCXH5</td>\n",
       "    </tr>\n",
       "    <tr>\n",
       "      <th>2</th>\n",
       "      <td>If I Were In Your Shoes</td>\n",
       "      <td>You Me At Six</td>\n",
       "      <td>Take Off Your Colours</td>\n",
       "      <td>spotify:track:3ksHcN1MdKel3q3gvWn0ej</td>\n",
       "    </tr>\n",
       "    <tr>\n",
       "      <th>3</th>\n",
       "      <td>Walk On Water Or Drown</td>\n",
       "      <td>Mayday Parade</td>\n",
       "      <td>A Lesson In Romantics</td>\n",
       "      <td>spotify:track:7k1nk4lxKSVhXs5WgZWXEz</td>\n",
       "    </tr>\n",
       "    <tr>\n",
       "      <th>4</th>\n",
       "      <td>Obstacle 1</td>\n",
       "      <td>Interpol</td>\n",
       "      <td>Turn On The Bright Lights: The Tenth Anniversa...</td>\n",
       "      <td>spotify:track:7wvtiQ3o8ELEmk2NjSSPpX</td>\n",
       "    </tr>\n",
       "    <tr>\n",
       "      <th>5</th>\n",
       "      <td>I'm Not Your Hero</td>\n",
       "      <td>Tegan and Sara</td>\n",
       "      <td>In Your Head: An Introduction to Tegan And Sara</td>\n",
       "      <td>spotify:track:4ycwZlffnXdXFwKwj5xcrA</td>\n",
       "    </tr>\n",
       "    <tr>\n",
       "      <th>6</th>\n",
       "      <td>Ingrid (Bonus Track)</td>\n",
       "      <td>Local Natives</td>\n",
       "      <td>Hummingbird</td>\n",
       "      <td>spotify:track:2Kc4eiF930BJ5nwoOewhAd</td>\n",
       "    </tr>\n",
       "    <tr>\n",
       "      <th>7</th>\n",
       "      <td>Red Clay Halo</td>\n",
       "      <td>Gillian Welch</td>\n",
       "      <td>Time (The Relevator)</td>\n",
       "      <td>spotify:track:35Zn1EWC4Qj96rkE16JuY2</td>\n",
       "    </tr>\n",
       "    <tr>\n",
       "      <th>8</th>\n",
       "      <td>Baila Mi Corazón</td>\n",
       "      <td>Belanova</td>\n",
       "      <td>Fantasía Pop</td>\n",
       "      <td>spotify:track:0GB4zJkbXdXBbdJPgudwDx</td>\n",
       "    </tr>\n",
       "    <tr>\n",
       "      <th>9</th>\n",
       "      <td>Talking In Your Sleep</td>\n",
       "      <td>The Romantics</td>\n",
       "      <td>In Heat</td>\n",
       "      <td>spotify:track:7fRvtXvJMpGfTLdF0M09a1</td>\n",
       "    </tr>\n",
       "  </tbody>\n",
       "</table>\n",
       "</div>"
      ],
      "text/plain": [
       "                  song_name     artist_name  \\\n",
       "0  Sick of Losing Soulmates           dodie   \n",
       "1  Upside Down & Inside Out           OK Go   \n",
       "2   If I Were In Your Shoes   You Me At Six   \n",
       "3    Walk On Water Or Drown   Mayday Parade   \n",
       "4                Obstacle 1        Interpol   \n",
       "5         I'm Not Your Hero  Tegan and Sara   \n",
       "6      Ingrid (Bonus Track)   Local Natives   \n",
       "7             Red Clay Halo   Gillian Welch   \n",
       "8          Baila Mi Corazón        Belanova   \n",
       "9     Talking In Your Sleep   The Romantics   \n",
       "\n",
       "                                          album_name  \\\n",
       "0                           Sick of Losing Soulmates   \n",
       "1                                       Hungry Ghost   \n",
       "2                              Take Off Your Colours   \n",
       "3                              A Lesson In Romantics   \n",
       "4  Turn On The Bright Lights: The Tenth Anniversa...   \n",
       "5    In Your Head: An Introduction to Tegan And Sara   \n",
       "6                                        Hummingbird   \n",
       "7                               Time (The Relevator)   \n",
       "8                                       Fantasía Pop   \n",
       "9                                            In Heat   \n",
       "\n",
       "                               song_uri  \n",
       "0  spotify:track:4hjbxjZpJ8H6qRCzDOGI0M  \n",
       "1  spotify:track:4QkYn1SDHFZWbf0tqNCXH5  \n",
       "2  spotify:track:3ksHcN1MdKel3q3gvWn0ej  \n",
       "3  spotify:track:7k1nk4lxKSVhXs5WgZWXEz  \n",
       "4  spotify:track:7wvtiQ3o8ELEmk2NjSSPpX  \n",
       "5  spotify:track:4ycwZlffnXdXFwKwj5xcrA  \n",
       "6  spotify:track:2Kc4eiF930BJ5nwoOewhAd  \n",
       "7  spotify:track:35Zn1EWC4Qj96rkE16JuY2  \n",
       "8  spotify:track:0GB4zJkbXdXBbdJPgudwDx  \n",
       "9  spotify:track:7fRvtXvJMpGfTLdF0M09a1  "
      ]
     },
     "execution_count": 29,
     "metadata": {},
     "output_type": "execute_result"
    }
   ],
   "source": [
    "simple_test_recs[4]"
   ]
  },
  {
   "cell_type": "code",
   "execution_count": 30,
   "metadata": {},
   "outputs": [
    {
     "data": {
      "text/html": [
       "<div>\n",
       "<style scoped>\n",
       "    .dataframe tbody tr th:only-of-type {\n",
       "        vertical-align: middle;\n",
       "    }\n",
       "\n",
       "    .dataframe tbody tr th {\n",
       "        vertical-align: top;\n",
       "    }\n",
       "\n",
       "    .dataframe thead th {\n",
       "        text-align: right;\n",
       "    }\n",
       "</style>\n",
       "<table border=\"1\" class=\"dataframe\">\n",
       "  <thead>\n",
       "    <tr style=\"text-align: right;\">\n",
       "      <th></th>\n",
       "      <th>song_name</th>\n",
       "      <th>artist_name</th>\n",
       "      <th>album_name</th>\n",
       "      <th>song_uri</th>\n",
       "    </tr>\n",
       "  </thead>\n",
       "  <tbody>\n",
       "    <tr>\n",
       "      <th>0</th>\n",
       "      <td>El Sol No Regresa</td>\n",
       "      <td>La Quinta Estacion</td>\n",
       "      <td>Flores De Alquiler</td>\n",
       "      <td>spotify:track:2awKQgW88iq9jFM54VaCAp</td>\n",
       "    </tr>\n",
       "    <tr>\n",
       "      <th>1</th>\n",
       "      <td>Fighting</td>\n",
       "      <td>Yellowcard</td>\n",
       "      <td>Paper Walls</td>\n",
       "      <td>spotify:track:1y8fcrAzJpSsjTgMQPT0ia</td>\n",
       "    </tr>\n",
       "    <tr>\n",
       "      <th>2</th>\n",
       "      <td>Even Robots Need Blankets</td>\n",
       "      <td>Mayday Parade</td>\n",
       "      <td>Monsters In The Closet</td>\n",
       "      <td>spotify:track:1NivdSEUqwvnC6MzO8VZiG</td>\n",
       "    </tr>\n",
       "    <tr>\n",
       "      <th>3</th>\n",
       "      <td>Eden</td>\n",
       "      <td>Sara Bareilles</td>\n",
       "      <td>The Blessed Unrest</td>\n",
       "      <td>spotify:track:0oihjTriCn7793AJwKBTrJ</td>\n",
       "    </tr>\n",
       "    <tr>\n",
       "      <th>4</th>\n",
       "      <td>Lo noto</td>\n",
       "      <td>Hombres G</td>\n",
       "      <td>30 años y un día</td>\n",
       "      <td>spotify:track:3q6Ta92jThS5sOK8r2YSBD</td>\n",
       "    </tr>\n",
       "    <tr>\n",
       "      <th>5</th>\n",
       "      <td>Name For You</td>\n",
       "      <td>The Shins</td>\n",
       "      <td>Heartworms</td>\n",
       "      <td>spotify:track:6qnaCx4wQQBqFd9XdQyWjC</td>\n",
       "    </tr>\n",
       "    <tr>\n",
       "      <th>6</th>\n",
       "      <td>Blue Spotted Tail</td>\n",
       "      <td>Fleet Foxes</td>\n",
       "      <td>Helplessness Blues</td>\n",
       "      <td>spotify:track:6ZbdcZO79W18dTwXf356Gp</td>\n",
       "    </tr>\n",
       "    <tr>\n",
       "      <th>7</th>\n",
       "      <td>Love Like a Sunset Part I</td>\n",
       "      <td>Phoenix</td>\n",
       "      <td>Wolfgang Amadeus Phoenix</td>\n",
       "      <td>spotify:track:6Kh1uaN6zhSyfLb6HaYGqC</td>\n",
       "    </tr>\n",
       "    <tr>\n",
       "      <th>8</th>\n",
       "      <td>Grey</td>\n",
       "      <td>Yellowcard</td>\n",
       "      <td>Lights And Sounds</td>\n",
       "      <td>spotify:track:49gtJtS8u0GUetaogTL9bm</td>\n",
       "    </tr>\n",
       "    <tr>\n",
       "      <th>9</th>\n",
       "      <td>Creep</td>\n",
       "      <td>Stone Temple Pilots</td>\n",
       "      <td>Core</td>\n",
       "      <td>spotify:track:0elH6ukMGLyCHJavHutEza</td>\n",
       "    </tr>\n",
       "  </tbody>\n",
       "</table>\n",
       "</div>"
      ],
      "text/plain": [
       "                   song_name          artist_name                album_name  \\\n",
       "0          El Sol No Regresa   La Quinta Estacion        Flores De Alquiler   \n",
       "1                   Fighting           Yellowcard               Paper Walls   \n",
       "2  Even Robots Need Blankets        Mayday Parade    Monsters In The Closet   \n",
       "3                       Eden       Sara Bareilles        The Blessed Unrest   \n",
       "4                    Lo noto            Hombres G          30 años y un día   \n",
       "5               Name For You            The Shins                Heartworms   \n",
       "6          Blue Spotted Tail          Fleet Foxes        Helplessness Blues   \n",
       "7  Love Like a Sunset Part I              Phoenix  Wolfgang Amadeus Phoenix   \n",
       "8                       Grey           Yellowcard         Lights And Sounds   \n",
       "9                      Creep  Stone Temple Pilots                      Core   \n",
       "\n",
       "                               song_uri  \n",
       "0  spotify:track:2awKQgW88iq9jFM54VaCAp  \n",
       "1  spotify:track:1y8fcrAzJpSsjTgMQPT0ia  \n",
       "2  spotify:track:1NivdSEUqwvnC6MzO8VZiG  \n",
       "3  spotify:track:0oihjTriCn7793AJwKBTrJ  \n",
       "4  spotify:track:3q6Ta92jThS5sOK8r2YSBD  \n",
       "5  spotify:track:6qnaCx4wQQBqFd9XdQyWjC  \n",
       "6  spotify:track:6ZbdcZO79W18dTwXf356Gp  \n",
       "7  spotify:track:6Kh1uaN6zhSyfLb6HaYGqC  \n",
       "8  spotify:track:49gtJtS8u0GUetaogTL9bm  \n",
       "9  spotify:track:0elH6ukMGLyCHJavHutEza  "
      ]
     },
     "execution_count": 30,
     "metadata": {},
     "output_type": "execute_result"
    }
   ],
   "source": [
    "best_test_recs[4]"
   ]
  },
  {
   "cell_type": "code",
   "execution_count": 31,
   "metadata": {},
   "outputs": [],
   "source": [
    "songs = sps.get_playlist_n(spotify_playlist[4], feature = 'track_uri', n_playlist = 4)"
   ]
  },
  {
   "cell_type": "code",
   "execution_count": 32,
   "metadata": {},
   "outputs": [
    {
     "data": {
      "text/html": [
       "<div>\n",
       "<style scoped>\n",
       "    .dataframe tbody tr th:only-of-type {\n",
       "        vertical-align: middle;\n",
       "    }\n",
       "\n",
       "    .dataframe tbody tr th {\n",
       "        vertical-align: top;\n",
       "    }\n",
       "\n",
       "    .dataframe thead th {\n",
       "        text-align: right;\n",
       "    }\n",
       "</style>\n",
       "<table border=\"1\" class=\"dataframe\">\n",
       "  <thead>\n",
       "    <tr style=\"text-align: right;\">\n",
       "      <th></th>\n",
       "      <th>song_name</th>\n",
       "      <th>artist_name</th>\n",
       "      <th>album_name</th>\n",
       "      <th>song_uri</th>\n",
       "    </tr>\n",
       "  </thead>\n",
       "  <tbody>\n",
       "    <tr>\n",
       "      <th>0</th>\n",
       "      <td>Tonight, Tonight - Remastered 2012</td>\n",
       "      <td>The Smashing Pumpkins</td>\n",
       "      <td>Mellon Collie And The Infinite Sadness (Remast...</td>\n",
       "      <td>spotify:track:4iCGSi1RonREsPtfEKYj5b</td>\n",
       "    </tr>\n",
       "    <tr>\n",
       "      <th>1</th>\n",
       "      <td>Wonderwall - Remastered</td>\n",
       "      <td>Oasis</td>\n",
       "      <td>(What's The Story) Morning Glory? [Remastered]</td>\n",
       "      <td>spotify:track:5qqabIl2vWzo9ApSC317sa</td>\n",
       "    </tr>\n",
       "    <tr>\n",
       "      <th>2</th>\n",
       "      <td>I Don't Want to Miss a Thing - From the Touchs...</td>\n",
       "      <td>Aerosmith</td>\n",
       "      <td>I Don't Want To Miss A Thing</td>\n",
       "      <td>spotify:track:0c1gHntWjKD7QShC8s99sq</td>\n",
       "    </tr>\n",
       "    <tr>\n",
       "      <th>3</th>\n",
       "      <td>Jealousy - Remastered Single Version</td>\n",
       "      <td>Natalie Merchant</td>\n",
       "      <td>Retrospective 1990-2005 [Ltd. Deluxe Version]</td>\n",
       "      <td>spotify:track:7p2aGxnxFYf6VLQPEYirPO</td>\n",
       "    </tr>\n",
       "    <tr>\n",
       "      <th>4</th>\n",
       "      <td>Waterfalls</td>\n",
       "      <td>TLC</td>\n",
       "      <td>Crazysexycool</td>\n",
       "      <td>spotify:track:6qspW4YKycviDFjHBOaqUY</td>\n",
       "    </tr>\n",
       "    <tr>\n",
       "      <th>5</th>\n",
       "      <td>1979 - Remastered 2012</td>\n",
       "      <td>The Smashing Pumpkins</td>\n",
       "      <td>Mellon Collie And The Infinite Sadness (Remast...</td>\n",
       "      <td>spotify:track:3Y8Ff1nH44jFywAtpgmleZ</td>\n",
       "    </tr>\n",
       "    <tr>\n",
       "      <th>6</th>\n",
       "      <td>Torn</td>\n",
       "      <td>Natalie Imbruglia</td>\n",
       "      <td>Left Of The Middle</td>\n",
       "      <td>spotify:track:1Jaah2tmN9Hv81A87KZ1MU</td>\n",
       "    </tr>\n",
       "    <tr>\n",
       "      <th>7</th>\n",
       "      <td>Stay</td>\n",
       "      <td>Lisa Loeb &amp; Nine Stories</td>\n",
       "      <td>Tails</td>\n",
       "      <td>spotify:track:4ARhdB2FzpXcko8T03YVen</td>\n",
       "    </tr>\n",
       "    <tr>\n",
       "      <th>8</th>\n",
       "      <td>Breathe Again</td>\n",
       "      <td>Toni Braxton</td>\n",
       "      <td>Toni Braxton</td>\n",
       "      <td>spotify:track:68ZD7M5tOBBM0N5XWRECoD</td>\n",
       "    </tr>\n",
       "    <tr>\n",
       "      <th>9</th>\n",
       "      <td>Angel</td>\n",
       "      <td>Sarah McLachlan</td>\n",
       "      <td>Surfacing</td>\n",
       "      <td>spotify:track:6G8fblD9DbcEmaKOKDy3XL</td>\n",
       "    </tr>\n",
       "    <tr>\n",
       "      <th>10</th>\n",
       "      <td>Bitter Sweet Symphony</td>\n",
       "      <td>The Verve</td>\n",
       "      <td>Urban Hymns (Deluxe / Remastered 2016)</td>\n",
       "      <td>spotify:track:3Z9PJ6xiEGmcqo2hESEB5n</td>\n",
       "    </tr>\n",
       "    <tr>\n",
       "      <th>11</th>\n",
       "      <td>Runaway Train</td>\n",
       "      <td>Soul Asylum</td>\n",
       "      <td>Grave Dancers Union</td>\n",
       "      <td>spotify:track:3TW48DvQ7ChwY1Yy1tkMaP</td>\n",
       "    </tr>\n",
       "    <tr>\n",
       "      <th>12</th>\n",
       "      <td>The Freshmen</td>\n",
       "      <td>The Verve Pipe</td>\n",
       "      <td>Villains</td>\n",
       "      <td>spotify:track:3rfDfPjgHDQ1BUaSHr9xoI</td>\n",
       "    </tr>\n",
       "    <tr>\n",
       "      <th>13</th>\n",
       "      <td>White Flag</td>\n",
       "      <td>Dido</td>\n",
       "      <td>Life For Rent</td>\n",
       "      <td>spotify:track:6si71supnBUhddjR2FJc2L</td>\n",
       "    </tr>\n",
       "    <tr>\n",
       "      <th>14</th>\n",
       "      <td>Smooth Operator - Single Version</td>\n",
       "      <td>Sade</td>\n",
       "      <td>The Best Of Sade</td>\n",
       "      <td>spotify:track:3XEtw7t4V5sfd2vtkp0ql7</td>\n",
       "    </tr>\n",
       "    <tr>\n",
       "      <th>15</th>\n",
       "      <td>Tom's Diner - 7\" Version</td>\n",
       "      <td>DNA</td>\n",
       "      <td>The Best Of Suzanne Vega - Tried And True</td>\n",
       "      <td>spotify:track:6HS5QOvhd4w3XqJMDaEWcv</td>\n",
       "    </tr>\n",
       "    <tr>\n",
       "      <th>16</th>\n",
       "      <td>Only Wanna Be with You</td>\n",
       "      <td>Hootie &amp; The Blowfish</td>\n",
       "      <td>Cracked Rear View</td>\n",
       "      <td>spotify:track:1OFKUn2VLafrHj7ybnap0Q</td>\n",
       "    </tr>\n",
       "  </tbody>\n",
       "</table>\n",
       "</div>"
      ],
      "text/plain": [
       "                                            song_name  \\\n",
       "0                  Tonight, Tonight - Remastered 2012   \n",
       "1                             Wonderwall - Remastered   \n",
       "2   I Don't Want to Miss a Thing - From the Touchs...   \n",
       "3                Jealousy - Remastered Single Version   \n",
       "4                                          Waterfalls   \n",
       "5                              1979 - Remastered 2012   \n",
       "6                                                Torn   \n",
       "7                                                Stay   \n",
       "8                                       Breathe Again   \n",
       "9                                               Angel   \n",
       "10                              Bitter Sweet Symphony   \n",
       "11                                      Runaway Train   \n",
       "12                                       The Freshmen   \n",
       "13                                         White Flag   \n",
       "14                   Smooth Operator - Single Version   \n",
       "15                           Tom's Diner - 7\" Version   \n",
       "16                             Only Wanna Be with You   \n",
       "\n",
       "                 artist_name  \\\n",
       "0      The Smashing Pumpkins   \n",
       "1                      Oasis   \n",
       "2                  Aerosmith   \n",
       "3           Natalie Merchant   \n",
       "4                        TLC   \n",
       "5      The Smashing Pumpkins   \n",
       "6          Natalie Imbruglia   \n",
       "7   Lisa Loeb & Nine Stories   \n",
       "8               Toni Braxton   \n",
       "9            Sarah McLachlan   \n",
       "10                 The Verve   \n",
       "11               Soul Asylum   \n",
       "12            The Verve Pipe   \n",
       "13                      Dido   \n",
       "14                      Sade   \n",
       "15                       DNA   \n",
       "16     Hootie & The Blowfish   \n",
       "\n",
       "                                           album_name  \\\n",
       "0   Mellon Collie And The Infinite Sadness (Remast...   \n",
       "1      (What's The Story) Morning Glory? [Remastered]   \n",
       "2                        I Don't Want To Miss A Thing   \n",
       "3       Retrospective 1990-2005 [Ltd. Deluxe Version]   \n",
       "4                                       Crazysexycool   \n",
       "5   Mellon Collie And The Infinite Sadness (Remast...   \n",
       "6                                  Left Of The Middle   \n",
       "7                                               Tails   \n",
       "8                                        Toni Braxton   \n",
       "9                                           Surfacing   \n",
       "10             Urban Hymns (Deluxe / Remastered 2016)   \n",
       "11                                Grave Dancers Union   \n",
       "12                                           Villains   \n",
       "13                                      Life For Rent   \n",
       "14                                   The Best Of Sade   \n",
       "15          The Best Of Suzanne Vega - Tried And True   \n",
       "16                                  Cracked Rear View   \n",
       "\n",
       "                                song_uri  \n",
       "0   spotify:track:4iCGSi1RonREsPtfEKYj5b  \n",
       "1   spotify:track:5qqabIl2vWzo9ApSC317sa  \n",
       "2   spotify:track:0c1gHntWjKD7QShC8s99sq  \n",
       "3   spotify:track:7p2aGxnxFYf6VLQPEYirPO  \n",
       "4   spotify:track:6qspW4YKycviDFjHBOaqUY  \n",
       "5   spotify:track:3Y8Ff1nH44jFywAtpgmleZ  \n",
       "6   spotify:track:1Jaah2tmN9Hv81A87KZ1MU  \n",
       "7   spotify:track:4ARhdB2FzpXcko8T03YVen  \n",
       "8   spotify:track:68ZD7M5tOBBM0N5XWRECoD  \n",
       "9   spotify:track:6G8fblD9DbcEmaKOKDy3XL  \n",
       "10  spotify:track:3Z9PJ6xiEGmcqo2hESEB5n  \n",
       "11  spotify:track:3TW48DvQ7ChwY1Yy1tkMaP  \n",
       "12  spotify:track:3rfDfPjgHDQ1BUaSHr9xoI  \n",
       "13  spotify:track:6si71supnBUhddjR2FJc2L  \n",
       "14  spotify:track:3XEtw7t4V5sfd2vtkp0ql7  \n",
       "15  spotify:track:6HS5QOvhd4w3XqJMDaEWcv  \n",
       "16  spotify:track:1OFKUn2VLafrHj7ybnap0Q  "
      ]
     },
     "execution_count": 32,
     "metadata": {},
     "output_type": "execute_result"
    }
   ],
   "source": [
    "sp = sps.create_spotipy_obj()\n",
    "tracks =  sp.tracks(songs)\n",
    "\n",
    "df_data = []\n",
    "for i in tracks['tracks']:\n",
    "    song_name = i['name']\n",
    "    artist_name = i['artists'][0]['name']\n",
    "    album_name = i['album']['name']\n",
    "    song_uri = i['uri']\n",
    "    df_data.append([song_name, artist_name, album_name, song_uri])\n",
    "\n",
    "df = pd.DataFrame(df_data)\n",
    "df.columns = ['song_name', 'artist_name', 'album_name', 'song_uri']\n",
    "df"
   ]
  },
  {
   "cell_type": "code",
   "execution_count": null,
   "metadata": {},
   "outputs": [],
   "source": [
    "# Model"
   ]
  }
 ],
 "metadata": {
  "kernelspec": {
   "display_name": "Python 3",
   "language": "python",
   "name": "python3"
  },
  "language_info": {
   "codemirror_mode": {
    "name": "ipython",
    "version": 3
   },
   "file_extension": ".py",
   "mimetype": "text/x-python",
   "name": "python",
   "nbconvert_exporter": "python",
   "pygments_lexer": "ipython3",
   "version": "3.6.5"
  }
 },
 "nbformat": 4,
 "nbformat_minor": 2
}
